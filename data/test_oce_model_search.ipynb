{
 "cells": [
  {
   "cell_type": "code",
   "execution_count": 2,
   "id": "cf25bd58",
   "metadata": {},
   "outputs": [],
   "source": [
    "import olorenchemengine as oce\n",
    "import pandas as pd"
   ]
  },
  {
   "cell_type": "code",
   "execution_count": 3,
   "id": "8c589b4d",
   "metadata": {},
   "outputs": [],
   "source": [
    "df = pd.read_csv(\"A2a.smi\",sep=\" \",names=[\"SMILES\",\"Name\",\"pIC50\"])"
   ]
  },
  {
   "cell_type": "code",
   "execution_count": 4,
   "id": "e3c91995",
   "metadata": {},
   "outputs": [
    {
     "name": "stdout",
     "output_type": "stream",
     "text": [
      "0 structure(s) were removed.\n"
     ]
    }
   ],
   "source": [
    "dataset = (oce.BaseDataset(data = df.to_csv(),\n",
    "    structure_col = \"SMILES\", property_col = \"pIC50\") +\n",
    "           oce.CleanStructures() +\n",
    "           oce.RandomSplit()\n",
    ")"
   ]
  },
  {
   "cell_type": "code",
   "execution_count": 5,
   "id": "4c78624e",
   "metadata": {},
   "outputs": [
    {
     "name": "stderr",
     "output_type": "stream",
     "text": [
      "GPU available: False, used: False\n",
      "TPU available: False, using: 0 TPU cores\n",
      "IPU available: False, using: 0 IPUs\n",
      "HPU available: False, using: 0 HPUs\n",
      "GPU available: False, used: False\n",
      "TPU available: False, using: 0 TPU cores\n",
      "IPU available: False, using: 0 IPUs\n",
      "HPU available: False, using: 0 HPUs\n",
      "GPU available: False, used: False\n",
      "TPU available: False, using: 0 TPU cores\n",
      "IPU available: False, using: 0 IPUs\n",
      "HPU available: False, using: 0 HPUs\n",
      "GPU available: False, used: False\n",
      "TPU available: False, using: 0 TPU cores\n",
      "IPU available: False, using: 0 IPUs\n",
      "HPU available: False, using: 0 HPUs\n",
      "GPU available: False, used: False\n",
      "TPU available: False, using: 0 TPU cores\n",
      "IPU available: False, using: 0 IPUs\n",
      "HPU available: False, using: 0 HPUs\n",
      "GPU available: False, used: False\n",
      "TPU available: False, using: 0 TPU cores\n",
      "IPU available: False, using: 0 IPUs\n",
      "HPU available: False, using: 0 HPUs\n"
     ]
    }
   ],
   "source": [
    "models = oce.TOP_MODELS_ADMET()\n",
    "mm = oce.ModelManager(dataset, metrics = [\"Root Mean Squared Error\"], file_path=\"A2a_results.oce\")"
   ]
  },
  {
   "cell_type": "code",
   "execution_count": 6,
   "id": "9f777031",
   "metadata": {},
   "outputs": [
    {
     "name": "stdout",
     "output_type": "stream",
     "text": [
      "[<olorenchemengine.basics.ZWK_XGBoostModel object at 0x7fee64e548b0>, <olorenchemengine.ensemble.BaseBoosting object at 0x7fee64e5fac0>, <olorenchemengine.ensemble.BaseBoosting object at 0x7fee64e44400>, <olorenchemengine.external.SPGNN.main.SPGNN object at 0x7feec1de9730>, <olorenchemengine.ensemble.RFStacker object at 0x7feec1f9dd90>, <olorenchemengine.ensemble.BaseBoosting object at 0x7feec1f9d0d0>, <olorenchemengine.ensemble.RFStacker object at 0x7feea08cdaf0>, <olorenchemengine.ensemble.ResampleAdaboost object at 0x7feec23e2670>, <olorenchemengine.basics.KNN object at 0x7feec2f5dac0>]\n"
     ]
    },
    {
     "name": "stderr",
     "output_type": "stream",
     "text": [
      "\r",
      "  0%|                                                                                                                                 | 0/9 [00:00<?, ?it/s]"
     ]
    },
    {
     "name": "stdout",
     "output_type": "stream",
     "text": [
      "Fitting model\n",
      "Fitting 5 folds for each of 100 candidates, totalling 500 fits\n",
      "[CV] END colsample_bytree=0.6, learning_rate=0.01, max_depth=3, min_child_weight=3, n_estimators=100, reg_alpha=5, reg_lambda=0, subsample=1.0; total time=   0.4s\n",
      "[CV] END colsample_bytree=0.6, learning_rate=0.01, max_depth=3, min_child_weight=3, n_estimators=100, reg_alpha=5, reg_lambda=0, subsample=1.0; total time=   0.2s\n",
      "[CV] END colsample_bytree=0.6, learning_rate=0.01, max_depth=3, min_child_weight=3, n_estimators=100, reg_alpha=5, reg_lambda=0, subsample=1.0; total time=   0.6s\n",
      "[CV] END colsample_bytree=0.6, learning_rate=0.01, max_depth=3, min_child_weight=3, n_estimators=100, reg_alpha=5, reg_lambda=0, subsample=1.0; total time=   0.3s\n",
      "[CV] END colsample_bytree=0.6, learning_rate=0.01, max_depth=3, min_child_weight=3, n_estimators=100, reg_alpha=5, reg_lambda=0, subsample=1.0; total time=   0.3s\n",
      "[CV] END colsample_bytree=1.0, learning_rate=0.1, max_depth=3, min_child_weight=1, n_estimators=500, reg_alpha=5, reg_lambda=0.1, subsample=0.4; total time=   0.8s\n",
      "[CV] END colsample_bytree=1.0, learning_rate=0.1, max_depth=3, min_child_weight=1, n_estimators=500, reg_alpha=5, reg_lambda=0.1, subsample=0.4; total time=   1.0s\n",
      "[CV] END colsample_bytree=1.0, learning_rate=0.1, max_depth=3, min_child_weight=1, n_estimators=500, reg_alpha=5, reg_lambda=0.1, subsample=0.4; total time=   1.6s\n",
      "[CV] END colsample_bytree=1.0, learning_rate=0.1, max_depth=3, min_child_weight=1, n_estimators=500, reg_alpha=5, reg_lambda=0.1, subsample=0.4; total time=   0.8s\n",
      "[CV] END colsample_bytree=1.0, learning_rate=0.1, max_depth=3, min_child_weight=1, n_estimators=500, reg_alpha=5, reg_lambda=0.1, subsample=0.4; total time=   0.9s\n",
      "[CV] END colsample_bytree=0.7, learning_rate=0.01, max_depth=3, min_child_weight=2, n_estimators=1000, reg_alpha=0, reg_lambda=30, subsample=0.8; total time=   7.0s\n",
      "[CV] END colsample_bytree=0.7, learning_rate=0.01, max_depth=3, min_child_weight=2, n_estimators=1000, reg_alpha=0, reg_lambda=30, subsample=0.8; total time=   8.1s\n",
      "[CV] END colsample_bytree=0.7, learning_rate=0.01, max_depth=3, min_child_weight=2, n_estimators=1000, reg_alpha=0, reg_lambda=30, subsample=0.8; total time=   4.1s\n",
      "[CV] END colsample_bytree=0.7, learning_rate=0.01, max_depth=3, min_child_weight=2, n_estimators=1000, reg_alpha=0, reg_lambda=30, subsample=0.8; total time=   3.7s\n",
      "[CV] END colsample_bytree=0.7, learning_rate=0.01, max_depth=3, min_child_weight=2, n_estimators=1000, reg_alpha=0, reg_lambda=30, subsample=0.8; total time=   4.3s\n",
      "[CV] END colsample_bytree=1.0, learning_rate=0.005, max_depth=5, min_child_weight=3, n_estimators=500, reg_alpha=5, reg_lambda=0, subsample=0.3; total time=   2.5s\n",
      "[CV] END colsample_bytree=1.0, learning_rate=0.005, max_depth=5, min_child_weight=3, n_estimators=500, reg_alpha=5, reg_lambda=0, subsample=0.3; total time=   2.2s\n",
      "[CV] END colsample_bytree=1.0, learning_rate=0.005, max_depth=5, min_child_weight=3, n_estimators=500, reg_alpha=5, reg_lambda=0, subsample=0.3; total time=   3.0s\n",
      "[CV] END colsample_bytree=1.0, learning_rate=0.005, max_depth=5, min_child_weight=3, n_estimators=500, reg_alpha=5, reg_lambda=0, subsample=0.3; total time=   1.6s\n",
      "[CV] END colsample_bytree=1.0, learning_rate=0.005, max_depth=5, min_child_weight=3, n_estimators=500, reg_alpha=5, reg_lambda=0, subsample=0.3; total time=   1.3s\n",
      "[CV] END colsample_bytree=0.5, learning_rate=0.1, max_depth=3, min_child_weight=1, n_estimators=50, reg_alpha=0, reg_lambda=10, subsample=0.4; total time=   0.1s\n",
      "[CV] END colsample_bytree=0.5, learning_rate=0.1, max_depth=3, min_child_weight=1, n_estimators=50, reg_alpha=0, reg_lambda=10, subsample=0.4; total time=   0.2s\n",
      "[CV] END colsample_bytree=0.5, learning_rate=0.1, max_depth=3, min_child_weight=1, n_estimators=50, reg_alpha=0, reg_lambda=10, subsample=0.4; total time=   0.1s\n",
      "[CV] END colsample_bytree=0.5, learning_rate=0.1, max_depth=3, min_child_weight=1, n_estimators=50, reg_alpha=0, reg_lambda=10, subsample=0.4; total time=   0.2s\n",
      "[CV] END colsample_bytree=0.5, learning_rate=0.1, max_depth=3, min_child_weight=1, n_estimators=50, reg_alpha=0, reg_lambda=10, subsample=0.4; total time=   0.1s\n",
      "[CV] END colsample_bytree=0.4, learning_rate=0.005, max_depth=3, min_child_weight=3, n_estimators=500, reg_alpha=10, reg_lambda=20, subsample=0.4; total time=   4.2s\n",
      "[CV] END colsample_bytree=0.4, learning_rate=0.005, max_depth=3, min_child_weight=3, n_estimators=500, reg_alpha=10, reg_lambda=20, subsample=0.4; total time=  12.7s\n",
      "[CV] END colsample_bytree=0.4, learning_rate=0.005, max_depth=3, min_child_weight=3, n_estimators=500, reg_alpha=10, reg_lambda=20, subsample=0.4; total time=   2.5s\n",
      "[CV] END colsample_bytree=0.4, learning_rate=0.005, max_depth=3, min_child_weight=3, n_estimators=500, reg_alpha=10, reg_lambda=20, subsample=0.4; total time=   1.4s\n",
      "[CV] END colsample_bytree=0.4, learning_rate=0.005, max_depth=3, min_child_weight=3, n_estimators=500, reg_alpha=10, reg_lambda=20, subsample=0.4; total time=   1.4s\n",
      "[CV] END colsample_bytree=0.7, learning_rate=0.01, max_depth=7, min_child_weight=1, n_estimators=1000, reg_alpha=0, reg_lambda=0, subsample=0.3; total time=  11.4s\n",
      "[CV] END colsample_bytree=0.7, learning_rate=0.01, max_depth=7, min_child_weight=1, n_estimators=1000, reg_alpha=0, reg_lambda=0, subsample=0.3; total time=   8.3s\n",
      "[CV] END colsample_bytree=0.7, learning_rate=0.01, max_depth=7, min_child_weight=1, n_estimators=1000, reg_alpha=0, reg_lambda=0, subsample=0.3; total time=   6.0s\n",
      "[CV] END colsample_bytree=0.7, learning_rate=0.01, max_depth=7, min_child_weight=1, n_estimators=1000, reg_alpha=0, reg_lambda=0, subsample=0.3; total time=   5.5s\n",
      "[CV] END colsample_bytree=0.7, learning_rate=0.01, max_depth=7, min_child_weight=1, n_estimators=1000, reg_alpha=0, reg_lambda=0, subsample=0.3; total time=   4.3s\n",
      "[CV] END colsample_bytree=0.5, learning_rate=0.005, max_depth=3, min_child_weight=1, n_estimators=1000, reg_alpha=25, reg_lambda=5, subsample=0.3; total time=   0.9s\n",
      "[CV] END colsample_bytree=0.5, learning_rate=0.005, max_depth=3, min_child_weight=1, n_estimators=1000, reg_alpha=25, reg_lambda=5, subsample=0.3; total time=   0.8s\n",
      "[CV] END colsample_bytree=0.5, learning_rate=0.005, max_depth=3, min_child_weight=1, n_estimators=1000, reg_alpha=25, reg_lambda=5, subsample=0.3; total time=   1.0s\n",
      "[CV] END colsample_bytree=0.5, learning_rate=0.005, max_depth=3, min_child_weight=1, n_estimators=1000, reg_alpha=25, reg_lambda=5, subsample=0.3; total time=   0.8s\n",
      "[CV] END colsample_bytree=0.5, learning_rate=0.005, max_depth=3, min_child_weight=1, n_estimators=1000, reg_alpha=25, reg_lambda=5, subsample=0.3; total time=   0.9s\n",
      "[CV] END colsample_bytree=0.4, learning_rate=0.1, max_depth=7, min_child_weight=3, n_estimators=1000, reg_alpha=25, reg_lambda=10, subsample=0.3; total time=   0.6s\n",
      "[CV] END colsample_bytree=0.4, learning_rate=0.1, max_depth=7, min_child_weight=3, n_estimators=1000, reg_alpha=25, reg_lambda=10, subsample=0.3; total time=   0.7s\n",
      "[CV] END colsample_bytree=0.4, learning_rate=0.1, max_depth=7, min_child_weight=3, n_estimators=1000, reg_alpha=25, reg_lambda=10, subsample=0.3; total time=   0.7s\n",
      "[CV] END colsample_bytree=0.4, learning_rate=0.1, max_depth=7, min_child_weight=3, n_estimators=1000, reg_alpha=25, reg_lambda=10, subsample=0.3; total time=   0.6s\n",
      "[CV] END colsample_bytree=0.4, learning_rate=0.1, max_depth=7, min_child_weight=3, n_estimators=1000, reg_alpha=25, reg_lambda=10, subsample=0.3; total time=   0.6s\n",
      "[CV] END colsample_bytree=0.3, learning_rate=0.1, max_depth=5, min_child_weight=3, n_estimators=50, reg_alpha=25, reg_lambda=30, subsample=0.3; total time=   0.0s\n",
      "[CV] END colsample_bytree=0.3, learning_rate=0.1, max_depth=5, min_child_weight=3, n_estimators=50, reg_alpha=25, reg_lambda=30, subsample=0.3; total time=   0.1s\n",
      "[CV] END colsample_bytree=0.3, learning_rate=0.1, max_depth=5, min_child_weight=3, n_estimators=50, reg_alpha=25, reg_lambda=30, subsample=0.3; total time=   0.1s\n",
      "[CV] END colsample_bytree=0.3, learning_rate=0.1, max_depth=5, min_child_weight=3, n_estimators=50, reg_alpha=25, reg_lambda=30, subsample=0.3; total time=   0.1s\n",
      "[CV] END colsample_bytree=0.3, learning_rate=0.1, max_depth=5, min_child_weight=3, n_estimators=50, reg_alpha=25, reg_lambda=30, subsample=0.3; total time=   0.1s\n"
     ]
    },
    {
     "name": "stdout",
     "output_type": "stream",
     "text": [
      "[CV] END colsample_bytree=1.0, learning_rate=0.001, max_depth=6, min_child_weight=3, n_estimators=1000, reg_alpha=0.1, reg_lambda=0.1, subsample=0.4; total time=   3.8s\n",
      "[CV] END colsample_bytree=1.0, learning_rate=0.001, max_depth=6, min_child_weight=3, n_estimators=1000, reg_alpha=0.1, reg_lambda=0.1, subsample=0.4; total time=   3.6s\n",
      "[CV] END colsample_bytree=1.0, learning_rate=0.001, max_depth=6, min_child_weight=3, n_estimators=1000, reg_alpha=0.1, reg_lambda=0.1, subsample=0.4; total time=   3.7s\n",
      "[CV] END colsample_bytree=1.0, learning_rate=0.001, max_depth=6, min_child_weight=3, n_estimators=1000, reg_alpha=0.1, reg_lambda=0.1, subsample=0.4; total time=   4.0s\n",
      "[CV] END colsample_bytree=1.0, learning_rate=0.001, max_depth=6, min_child_weight=3, n_estimators=1000, reg_alpha=0.1, reg_lambda=0.1, subsample=0.4; total time=   4.8s\n",
      "[CV] END colsample_bytree=0.4, learning_rate=0.005, max_depth=7, min_child_weight=3, n_estimators=50, reg_alpha=1, reg_lambda=30, subsample=0.3; total time=   0.2s\n",
      "[CV] END colsample_bytree=0.4, learning_rate=0.005, max_depth=7, min_child_weight=3, n_estimators=50, reg_alpha=1, reg_lambda=30, subsample=0.3; total time=   0.2s\n",
      "[CV] END colsample_bytree=0.4, learning_rate=0.005, max_depth=7, min_child_weight=3, n_estimators=50, reg_alpha=1, reg_lambda=30, subsample=0.3; total time=   0.2s\n",
      "[CV] END colsample_bytree=0.4, learning_rate=0.005, max_depth=7, min_child_weight=3, n_estimators=50, reg_alpha=1, reg_lambda=30, subsample=0.3; total time=   0.2s\n",
      "[CV] END colsample_bytree=0.4, learning_rate=0.005, max_depth=7, min_child_weight=3, n_estimators=50, reg_alpha=1, reg_lambda=30, subsample=0.3; total time=   0.3s\n",
      "[CV] END colsample_bytree=0.9, learning_rate=0.001, max_depth=6, min_child_weight=1, n_estimators=500, reg_alpha=5, reg_lambda=1, subsample=0.8; total time=   2.9s\n",
      "[CV] END colsample_bytree=0.9, learning_rate=0.001, max_depth=6, min_child_weight=1, n_estimators=500, reg_alpha=5, reg_lambda=1, subsample=0.8; total time=   3.0s\n",
      "[CV] END colsample_bytree=0.9, learning_rate=0.001, max_depth=6, min_child_weight=1, n_estimators=500, reg_alpha=5, reg_lambda=1, subsample=0.8; total time=   2.1s\n",
      "[CV] END colsample_bytree=0.9, learning_rate=0.001, max_depth=6, min_child_weight=1, n_estimators=500, reg_alpha=5, reg_lambda=1, subsample=0.8; total time=   2.2s\n",
      "[CV] END colsample_bytree=0.9, learning_rate=0.001, max_depth=6, min_child_weight=1, n_estimators=500, reg_alpha=5, reg_lambda=1, subsample=0.8; total time=   2.2s\n",
      "[CV] END colsample_bytree=0.8, learning_rate=0.1, max_depth=7, min_child_weight=3, n_estimators=500, reg_alpha=1, reg_lambda=0, subsample=1.0; total time=   0.9s\n",
      "[CV] END colsample_bytree=0.8, learning_rate=0.1, max_depth=7, min_child_weight=3, n_estimators=500, reg_alpha=1, reg_lambda=0, subsample=1.0; total time=   0.8s\n",
      "[CV] END colsample_bytree=0.8, learning_rate=0.1, max_depth=7, min_child_weight=3, n_estimators=500, reg_alpha=1, reg_lambda=0, subsample=1.0; total time=   0.7s\n",
      "[CV] END colsample_bytree=0.8, learning_rate=0.1, max_depth=7, min_child_weight=3, n_estimators=500, reg_alpha=1, reg_lambda=0, subsample=1.0; total time=   0.7s\n",
      "[CV] END colsample_bytree=0.8, learning_rate=0.1, max_depth=7, min_child_weight=3, n_estimators=500, reg_alpha=1, reg_lambda=0, subsample=1.0; total time=   0.6s\n",
      "[CV] END colsample_bytree=0.5, learning_rate=0.01, max_depth=3, min_child_weight=2, n_estimators=500, reg_alpha=25, reg_lambda=10, subsample=0.5; total time=   1.0s\n",
      "[CV] END colsample_bytree=0.5, learning_rate=0.01, max_depth=3, min_child_weight=2, n_estimators=500, reg_alpha=25, reg_lambda=10, subsample=0.5; total time=   1.3s\n",
      "[CV] END colsample_bytree=0.5, learning_rate=0.01, max_depth=3, min_child_weight=2, n_estimators=500, reg_alpha=25, reg_lambda=10, subsample=0.5; total time=   0.8s\n",
      "[CV] END colsample_bytree=0.5, learning_rate=0.01, max_depth=3, min_child_weight=2, n_estimators=500, reg_alpha=25, reg_lambda=10, subsample=0.5; total time=   0.7s\n",
      "[CV] END colsample_bytree=0.5, learning_rate=0.01, max_depth=3, min_child_weight=2, n_estimators=500, reg_alpha=25, reg_lambda=10, subsample=0.5; total time=   0.7s\n",
      "[CV] END colsample_bytree=0.5, learning_rate=0.001, max_depth=5, min_child_weight=1, n_estimators=200, reg_alpha=1, reg_lambda=0, subsample=0.6; total time=   0.7s\n",
      "[CV] END colsample_bytree=0.5, learning_rate=0.001, max_depth=5, min_child_weight=1, n_estimators=200, reg_alpha=1, reg_lambda=0, subsample=0.6; total time=   0.6s\n",
      "[CV] END colsample_bytree=0.5, learning_rate=0.001, max_depth=5, min_child_weight=1, n_estimators=200, reg_alpha=1, reg_lambda=0, subsample=0.6; total time=   0.6s\n",
      "[CV] END colsample_bytree=0.5, learning_rate=0.001, max_depth=5, min_child_weight=1, n_estimators=200, reg_alpha=1, reg_lambda=0, subsample=0.6; total time=   0.7s\n",
      "[CV] END colsample_bytree=0.5, learning_rate=0.001, max_depth=5, min_child_weight=1, n_estimators=200, reg_alpha=1, reg_lambda=0, subsample=0.6; total time=   0.6s\n",
      "[CV] END colsample_bytree=0.3, learning_rate=0.001, max_depth=3, min_child_weight=3, n_estimators=1000, reg_alpha=30, reg_lambda=1, subsample=0.4; total time=   1.2s\n",
      "[CV] END colsample_bytree=0.3, learning_rate=0.001, max_depth=3, min_child_weight=3, n_estimators=1000, reg_alpha=30, reg_lambda=1, subsample=0.4; total time=   0.9s\n",
      "[CV] END colsample_bytree=0.3, learning_rate=0.001, max_depth=3, min_child_weight=3, n_estimators=1000, reg_alpha=30, reg_lambda=1, subsample=0.4; total time=   1.2s\n",
      "[CV] END colsample_bytree=0.3, learning_rate=0.001, max_depth=3, min_child_weight=3, n_estimators=1000, reg_alpha=30, reg_lambda=1, subsample=0.4; total time=   0.9s\n",
      "[CV] END colsample_bytree=0.3, learning_rate=0.001, max_depth=3, min_child_weight=3, n_estimators=1000, reg_alpha=30, reg_lambda=1, subsample=0.4; total time=   1.2s\n",
      "[CV] END colsample_bytree=0.7, learning_rate=0.1, max_depth=4, min_child_weight=3, n_estimators=50, reg_alpha=1, reg_lambda=25, subsample=0.6; total time=   0.1s\n",
      "[CV] END colsample_bytree=0.7, learning_rate=0.1, max_depth=4, min_child_weight=3, n_estimators=50, reg_alpha=1, reg_lambda=25, subsample=0.6; total time=   0.1s\n",
      "[CV] END colsample_bytree=0.7, learning_rate=0.1, max_depth=4, min_child_weight=3, n_estimators=50, reg_alpha=1, reg_lambda=25, subsample=0.6; total time=   0.1s\n",
      "[CV] END colsample_bytree=0.7, learning_rate=0.1, max_depth=4, min_child_weight=3, n_estimators=50, reg_alpha=1, reg_lambda=25, subsample=0.6; total time=   0.1s\n",
      "[CV] END colsample_bytree=0.7, learning_rate=0.1, max_depth=4, min_child_weight=3, n_estimators=50, reg_alpha=1, reg_lambda=25, subsample=0.6; total time=   0.1s\n",
      "[CV] END colsample_bytree=0.7, learning_rate=0.01, max_depth=6, min_child_weight=3, n_estimators=1000, reg_alpha=5, reg_lambda=0.1, subsample=1.0; total time=   1.9s\n",
      "[CV] END colsample_bytree=0.7, learning_rate=0.01, max_depth=6, min_child_weight=3, n_estimators=1000, reg_alpha=5, reg_lambda=0.1, subsample=1.0; total time=   2.4s\n",
      "[CV] END colsample_bytree=0.7, learning_rate=0.01, max_depth=6, min_child_weight=3, n_estimators=1000, reg_alpha=5, reg_lambda=0.1, subsample=1.0; total time=   2.7s\n",
      "[CV] END colsample_bytree=0.7, learning_rate=0.01, max_depth=6, min_child_weight=3, n_estimators=1000, reg_alpha=5, reg_lambda=0.1, subsample=1.0; total time=   2.7s\n",
      "[CV] END colsample_bytree=0.7, learning_rate=0.01, max_depth=6, min_child_weight=3, n_estimators=1000, reg_alpha=5, reg_lambda=0.1, subsample=1.0; total time=   1.9s\n",
      "[CV] END colsample_bytree=0.7, learning_rate=0.01, max_depth=3, min_child_weight=2, n_estimators=200, reg_alpha=20, reg_lambda=30, subsample=1.0; total time=   0.3s\n",
      "[CV] END colsample_bytree=0.7, learning_rate=0.01, max_depth=3, min_child_weight=2, n_estimators=200, reg_alpha=20, reg_lambda=30, subsample=1.0; total time=   0.4s\n",
      "[CV] END colsample_bytree=0.7, learning_rate=0.01, max_depth=3, min_child_weight=2, n_estimators=200, reg_alpha=20, reg_lambda=30, subsample=1.0; total time=   0.4s\n",
      "[CV] END colsample_bytree=0.7, learning_rate=0.01, max_depth=3, min_child_weight=2, n_estimators=200, reg_alpha=20, reg_lambda=30, subsample=1.0; total time=   0.4s\n",
      "[CV] END colsample_bytree=0.7, learning_rate=0.01, max_depth=3, min_child_weight=2, n_estimators=200, reg_alpha=20, reg_lambda=30, subsample=1.0; total time=   0.6s\n",
      "[CV] END colsample_bytree=0.5, learning_rate=0.005, max_depth=6, min_child_weight=3, n_estimators=50, reg_alpha=1, reg_lambda=25, subsample=0.4; total time=   0.1s\n"
     ]
    },
    {
     "name": "stdout",
     "output_type": "stream",
     "text": [
      "[CV] END colsample_bytree=0.5, learning_rate=0.005, max_depth=6, min_child_weight=3, n_estimators=50, reg_alpha=1, reg_lambda=25, subsample=0.4; total time=   0.1s\n",
      "[CV] END colsample_bytree=0.5, learning_rate=0.005, max_depth=6, min_child_weight=3, n_estimators=50, reg_alpha=1, reg_lambda=25, subsample=0.4; total time=   0.2s\n",
      "[CV] END colsample_bytree=0.5, learning_rate=0.005, max_depth=6, min_child_weight=3, n_estimators=50, reg_alpha=1, reg_lambda=25, subsample=0.4; total time=   0.1s\n",
      "[CV] END colsample_bytree=0.5, learning_rate=0.005, max_depth=6, min_child_weight=3, n_estimators=50, reg_alpha=1, reg_lambda=25, subsample=0.4; total time=   0.1s\n",
      "[CV] END colsample_bytree=1.0, learning_rate=0.001, max_depth=4, min_child_weight=3, n_estimators=1000, reg_alpha=10, reg_lambda=20, subsample=0.7; total time=   3.1s\n",
      "[CV] END colsample_bytree=1.0, learning_rate=0.001, max_depth=4, min_child_weight=3, n_estimators=1000, reg_alpha=10, reg_lambda=20, subsample=0.7; total time=   2.8s\n",
      "[CV] END colsample_bytree=1.0, learning_rate=0.001, max_depth=4, min_child_weight=3, n_estimators=1000, reg_alpha=10, reg_lambda=20, subsample=0.7; total time=   2.8s\n",
      "[CV] END colsample_bytree=1.0, learning_rate=0.001, max_depth=4, min_child_weight=3, n_estimators=1000, reg_alpha=10, reg_lambda=20, subsample=0.7; total time=   2.5s\n",
      "[CV] END colsample_bytree=1.0, learning_rate=0.001, max_depth=4, min_child_weight=3, n_estimators=1000, reg_alpha=10, reg_lambda=20, subsample=0.7; total time=   3.3s\n",
      "[CV] END colsample_bytree=0.6, learning_rate=0.001, max_depth=7, min_child_weight=2, n_estimators=200, reg_alpha=30, reg_lambda=1, subsample=0.4; total time=   0.3s\n",
      "[CV] END colsample_bytree=0.6, learning_rate=0.001, max_depth=7, min_child_weight=2, n_estimators=200, reg_alpha=30, reg_lambda=1, subsample=0.4; total time=   0.2s\n",
      "[CV] END colsample_bytree=0.6, learning_rate=0.001, max_depth=7, min_child_weight=2, n_estimators=200, reg_alpha=30, reg_lambda=1, subsample=0.4; total time=   0.3s\n",
      "[CV] END colsample_bytree=0.6, learning_rate=0.001, max_depth=7, min_child_weight=2, n_estimators=200, reg_alpha=30, reg_lambda=1, subsample=0.4; total time=   0.3s\n",
      "[CV] END colsample_bytree=0.6, learning_rate=0.001, max_depth=7, min_child_weight=2, n_estimators=200, reg_alpha=30, reg_lambda=1, subsample=0.4; total time=   0.3s\n",
      "[CV] END colsample_bytree=0.6, learning_rate=0.005, max_depth=7, min_child_weight=2, n_estimators=50, reg_alpha=30, reg_lambda=20, subsample=0.4; total time=   0.1s\n",
      "[CV] END colsample_bytree=0.6, learning_rate=0.005, max_depth=7, min_child_weight=2, n_estimators=50, reg_alpha=30, reg_lambda=20, subsample=0.4; total time=   0.1s\n",
      "[CV] END colsample_bytree=0.6, learning_rate=0.005, max_depth=7, min_child_weight=2, n_estimators=50, reg_alpha=30, reg_lambda=20, subsample=0.4; total time=   0.1s\n",
      "[CV] END colsample_bytree=0.6, learning_rate=0.005, max_depth=7, min_child_weight=2, n_estimators=50, reg_alpha=30, reg_lambda=20, subsample=0.4; total time=   0.1s\n",
      "[CV] END colsample_bytree=0.6, learning_rate=0.005, max_depth=7, min_child_weight=2, n_estimators=50, reg_alpha=30, reg_lambda=20, subsample=0.4; total time=   0.1s\n",
      "[CV] END colsample_bytree=1.0, learning_rate=0.005, max_depth=7, min_child_weight=3, n_estimators=50, reg_alpha=5, reg_lambda=20, subsample=0.7; total time=   0.1s\n",
      "[CV] END colsample_bytree=1.0, learning_rate=0.005, max_depth=7, min_child_weight=3, n_estimators=50, reg_alpha=5, reg_lambda=20, subsample=0.7; total time=   0.2s\n",
      "[CV] END colsample_bytree=1.0, learning_rate=0.005, max_depth=7, min_child_weight=3, n_estimators=50, reg_alpha=5, reg_lambda=20, subsample=0.7; total time=   0.2s\n",
      "[CV] END colsample_bytree=1.0, learning_rate=0.005, max_depth=7, min_child_weight=3, n_estimators=50, reg_alpha=5, reg_lambda=20, subsample=0.7; total time=   0.2s\n",
      "[CV] END colsample_bytree=1.0, learning_rate=0.005, max_depth=7, min_child_weight=3, n_estimators=50, reg_alpha=5, reg_lambda=20, subsample=0.7; total time=   0.2s\n",
      "[CV] END colsample_bytree=0.8, learning_rate=0.005, max_depth=6, min_child_weight=1, n_estimators=100, reg_alpha=1, reg_lambda=10, subsample=0.5; total time=   0.4s\n",
      "[CV] END colsample_bytree=0.8, learning_rate=0.005, max_depth=6, min_child_weight=1, n_estimators=100, reg_alpha=1, reg_lambda=10, subsample=0.5; total time=   0.5s\n",
      "[CV] END colsample_bytree=0.8, learning_rate=0.005, max_depth=6, min_child_weight=1, n_estimators=100, reg_alpha=1, reg_lambda=10, subsample=0.5; total time=   0.4s\n",
      "[CV] END colsample_bytree=0.8, learning_rate=0.005, max_depth=6, min_child_weight=1, n_estimators=100, reg_alpha=1, reg_lambda=10, subsample=0.5; total time=   0.4s\n",
      "[CV] END colsample_bytree=0.8, learning_rate=0.005, max_depth=6, min_child_weight=1, n_estimators=100, reg_alpha=1, reg_lambda=10, subsample=0.5; total time=   0.4s\n",
      "[CV] END colsample_bytree=0.9, learning_rate=0.01, max_depth=6, min_child_weight=1, n_estimators=500, reg_alpha=1, reg_lambda=25, subsample=1.0; total time=   2.3s\n",
      "[CV] END colsample_bytree=0.9, learning_rate=0.01, max_depth=6, min_child_weight=1, n_estimators=500, reg_alpha=1, reg_lambda=25, subsample=1.0; total time=   2.2s\n",
      "[CV] END colsample_bytree=0.9, learning_rate=0.01, max_depth=6, min_child_weight=1, n_estimators=500, reg_alpha=1, reg_lambda=25, subsample=1.0; total time=   2.2s\n",
      "[CV] END colsample_bytree=0.9, learning_rate=0.01, max_depth=6, min_child_weight=1, n_estimators=500, reg_alpha=1, reg_lambda=25, subsample=1.0; total time=   2.6s\n",
      "[CV] END colsample_bytree=0.9, learning_rate=0.01, max_depth=6, min_child_weight=1, n_estimators=500, reg_alpha=1, reg_lambda=25, subsample=1.0; total time=   3.0s\n",
      "[CV] END colsample_bytree=0.7, learning_rate=0.005, max_depth=5, min_child_weight=3, n_estimators=50, reg_alpha=30, reg_lambda=1, subsample=0.7; total time=   0.1s\n",
      "[CV] END colsample_bytree=0.7, learning_rate=0.005, max_depth=5, min_child_weight=3, n_estimators=50, reg_alpha=30, reg_lambda=1, subsample=0.7; total time=   0.2s\n",
      "[CV] END colsample_bytree=0.7, learning_rate=0.005, max_depth=5, min_child_weight=3, n_estimators=50, reg_alpha=30, reg_lambda=1, subsample=0.7; total time=   0.1s\n",
      "[CV] END colsample_bytree=0.7, learning_rate=0.005, max_depth=5, min_child_weight=3, n_estimators=50, reg_alpha=30, reg_lambda=1, subsample=0.7; total time=   0.1s\n",
      "[CV] END colsample_bytree=0.7, learning_rate=0.005, max_depth=5, min_child_weight=3, n_estimators=50, reg_alpha=30, reg_lambda=1, subsample=0.7; total time=   0.1s\n",
      "[CV] END colsample_bytree=1.0, learning_rate=0.005, max_depth=5, min_child_weight=2, n_estimators=100, reg_alpha=20, reg_lambda=0, subsample=0.4; total time=   0.2s\n",
      "[CV] END colsample_bytree=1.0, learning_rate=0.005, max_depth=5, min_child_weight=2, n_estimators=100, reg_alpha=20, reg_lambda=0, subsample=0.4; total time=   0.2s\n",
      "[CV] END colsample_bytree=1.0, learning_rate=0.005, max_depth=5, min_child_weight=2, n_estimators=100, reg_alpha=20, reg_lambda=0, subsample=0.4; total time=   0.3s\n",
      "[CV] END colsample_bytree=1.0, learning_rate=0.005, max_depth=5, min_child_weight=2, n_estimators=100, reg_alpha=20, reg_lambda=0, subsample=0.4; total time=   0.2s\n",
      "[CV] END colsample_bytree=1.0, learning_rate=0.005, max_depth=5, min_child_weight=2, n_estimators=100, reg_alpha=20, reg_lambda=0, subsample=0.4; total time=   0.2s\n",
      "[CV] END colsample_bytree=0.4, learning_rate=0.001, max_depth=4, min_child_weight=3, n_estimators=50, reg_alpha=20, reg_lambda=20, subsample=0.9; total time=   0.1s\n",
      "[CV] END colsample_bytree=0.4, learning_rate=0.001, max_depth=4, min_child_weight=3, n_estimators=50, reg_alpha=20, reg_lambda=20, subsample=0.9; total time=   0.2s\n",
      "[CV] END colsample_bytree=0.4, learning_rate=0.001, max_depth=4, min_child_weight=3, n_estimators=50, reg_alpha=20, reg_lambda=20, subsample=0.9; total time=   0.1s\n",
      "[CV] END colsample_bytree=0.4, learning_rate=0.001, max_depth=4, min_child_weight=3, n_estimators=50, reg_alpha=20, reg_lambda=20, subsample=0.9; total time=   0.2s\n",
      "[CV] END colsample_bytree=0.4, learning_rate=0.001, max_depth=4, min_child_weight=3, n_estimators=50, reg_alpha=20, reg_lambda=20, subsample=0.9; total time=   0.1s\n",
      "[CV] END colsample_bytree=0.3, learning_rate=0.1, max_depth=6, min_child_weight=1, n_estimators=50, reg_alpha=25, reg_lambda=20, subsample=0.7; total time=   0.2s\n",
      "[CV] END colsample_bytree=0.3, learning_rate=0.1, max_depth=6, min_child_weight=1, n_estimators=50, reg_alpha=25, reg_lambda=20, subsample=0.7; total time=   0.2s\n"
     ]
    },
    {
     "name": "stdout",
     "output_type": "stream",
     "text": [
      "[CV] END colsample_bytree=0.3, learning_rate=0.1, max_depth=6, min_child_weight=1, n_estimators=50, reg_alpha=25, reg_lambda=20, subsample=0.7; total time=   0.1s\n",
      "[CV] END colsample_bytree=0.3, learning_rate=0.1, max_depth=6, min_child_weight=1, n_estimators=50, reg_alpha=25, reg_lambda=20, subsample=0.7; total time=   0.2s\n",
      "[CV] END colsample_bytree=0.3, learning_rate=0.1, max_depth=6, min_child_weight=1, n_estimators=50, reg_alpha=25, reg_lambda=20, subsample=0.7; total time=   0.1s\n",
      "[CV] END colsample_bytree=0.5, learning_rate=0.005, max_depth=7, min_child_weight=2, n_estimators=200, reg_alpha=0.1, reg_lambda=25, subsample=0.9; total time=   0.8s\n",
      "[CV] END colsample_bytree=0.5, learning_rate=0.005, max_depth=7, min_child_weight=2, n_estimators=200, reg_alpha=0.1, reg_lambda=25, subsample=0.9; total time=   1.0s\n",
      "[CV] END colsample_bytree=0.5, learning_rate=0.005, max_depth=7, min_child_weight=2, n_estimators=200, reg_alpha=0.1, reg_lambda=25, subsample=0.9; total time=   0.9s\n",
      "[CV] END colsample_bytree=0.5, learning_rate=0.005, max_depth=7, min_child_weight=2, n_estimators=200, reg_alpha=0.1, reg_lambda=25, subsample=0.9; total time=   1.3s\n",
      "[CV] END colsample_bytree=0.5, learning_rate=0.005, max_depth=7, min_child_weight=2, n_estimators=200, reg_alpha=0.1, reg_lambda=25, subsample=0.9; total time=   1.1s\n",
      "[CV] END colsample_bytree=0.9, learning_rate=0.1, max_depth=6, min_child_weight=1, n_estimators=500, reg_alpha=1, reg_lambda=1, subsample=0.9; total time=   1.1s\n",
      "[CV] END colsample_bytree=0.9, learning_rate=0.1, max_depth=6, min_child_weight=1, n_estimators=500, reg_alpha=1, reg_lambda=1, subsample=0.9; total time=   1.0s\n",
      "[CV] END colsample_bytree=0.9, learning_rate=0.1, max_depth=6, min_child_weight=1, n_estimators=500, reg_alpha=1, reg_lambda=1, subsample=0.9; total time=   0.9s\n",
      "[CV] END colsample_bytree=0.9, learning_rate=0.1, max_depth=6, min_child_weight=1, n_estimators=500, reg_alpha=1, reg_lambda=1, subsample=0.9; total time=   0.9s\n",
      "[CV] END colsample_bytree=0.9, learning_rate=0.1, max_depth=6, min_child_weight=1, n_estimators=500, reg_alpha=1, reg_lambda=1, subsample=0.9; total time=   1.0s\n",
      "[CV] END colsample_bytree=0.5, learning_rate=0.1, max_depth=7, min_child_weight=1, n_estimators=200, reg_alpha=0.1, reg_lambda=30, subsample=0.8; total time=   1.0s\n",
      "[CV] END colsample_bytree=0.5, learning_rate=0.1, max_depth=7, min_child_weight=1, n_estimators=200, reg_alpha=0.1, reg_lambda=30, subsample=0.8; total time=   1.1s\n",
      "[CV] END colsample_bytree=0.5, learning_rate=0.1, max_depth=7, min_child_weight=1, n_estimators=200, reg_alpha=0.1, reg_lambda=30, subsample=0.8; total time=   1.0s\n",
      "[CV] END colsample_bytree=0.5, learning_rate=0.1, max_depth=7, min_child_weight=1, n_estimators=200, reg_alpha=0.1, reg_lambda=30, subsample=0.8; total time=   0.9s\n",
      "[CV] END colsample_bytree=0.5, learning_rate=0.1, max_depth=7, min_child_weight=1, n_estimators=200, reg_alpha=0.1, reg_lambda=30, subsample=0.8; total time=   1.0s\n",
      "[CV] END colsample_bytree=0.7, learning_rate=0.001, max_depth=3, min_child_weight=1, n_estimators=1000, reg_alpha=10, reg_lambda=5, subsample=0.5; total time=   2.1s\n",
      "[CV] END colsample_bytree=0.7, learning_rate=0.001, max_depth=3, min_child_weight=1, n_estimators=1000, reg_alpha=10, reg_lambda=5, subsample=0.5; total time=   2.1s\n",
      "[CV] END colsample_bytree=0.7, learning_rate=0.001, max_depth=3, min_child_weight=1, n_estimators=1000, reg_alpha=10, reg_lambda=5, subsample=0.5; total time=   2.1s\n",
      "[CV] END colsample_bytree=0.7, learning_rate=0.001, max_depth=3, min_child_weight=1, n_estimators=1000, reg_alpha=10, reg_lambda=5, subsample=0.5; total time=   2.0s\n",
      "[CV] END colsample_bytree=0.7, learning_rate=0.001, max_depth=3, min_child_weight=1, n_estimators=1000, reg_alpha=10, reg_lambda=5, subsample=0.5; total time=   2.1s\n",
      "[CV] END colsample_bytree=0.3, learning_rate=0.01, max_depth=7, min_child_weight=3, n_estimators=500, reg_alpha=0.1, reg_lambda=1, subsample=1.0; total time=   2.2s\n",
      "[CV] END colsample_bytree=0.3, learning_rate=0.01, max_depth=7, min_child_weight=3, n_estimators=500, reg_alpha=0.1, reg_lambda=1, subsample=1.0; total time=   2.2s\n",
      "[CV] END colsample_bytree=0.3, learning_rate=0.01, max_depth=7, min_child_weight=3, n_estimators=500, reg_alpha=0.1, reg_lambda=1, subsample=1.0; total time=   2.3s\n",
      "[CV] END colsample_bytree=0.3, learning_rate=0.01, max_depth=7, min_child_weight=3, n_estimators=500, reg_alpha=0.1, reg_lambda=1, subsample=1.0; total time=   2.3s\n",
      "[CV] END colsample_bytree=0.3, learning_rate=0.01, max_depth=7, min_child_weight=3, n_estimators=500, reg_alpha=0.1, reg_lambda=1, subsample=1.0; total time=   2.4s\n",
      "[CV] END colsample_bytree=0.8, learning_rate=0.1, max_depth=5, min_child_weight=1, n_estimators=200, reg_alpha=10, reg_lambda=0.1, subsample=0.6; total time=   0.5s\n",
      "[CV] END colsample_bytree=0.8, learning_rate=0.1, max_depth=5, min_child_weight=1, n_estimators=200, reg_alpha=10, reg_lambda=0.1, subsample=0.6; total time=   0.3s\n",
      "[CV] END colsample_bytree=0.8, learning_rate=0.1, max_depth=5, min_child_weight=1, n_estimators=200, reg_alpha=10, reg_lambda=0.1, subsample=0.6; total time=   0.4s\n",
      "[CV] END colsample_bytree=0.8, learning_rate=0.1, max_depth=5, min_child_weight=1, n_estimators=200, reg_alpha=10, reg_lambda=0.1, subsample=0.6; total time=   0.5s\n",
      "[CV] END colsample_bytree=0.8, learning_rate=0.1, max_depth=5, min_child_weight=1, n_estimators=200, reg_alpha=10, reg_lambda=0.1, subsample=0.6; total time=   0.5s\n",
      "[CV] END colsample_bytree=0.4, learning_rate=0.005, max_depth=3, min_child_weight=2, n_estimators=200, reg_alpha=0, reg_lambda=30, subsample=0.6; total time=   0.6s\n",
      "[CV] END colsample_bytree=0.4, learning_rate=0.005, max_depth=3, min_child_weight=2, n_estimators=200, reg_alpha=0, reg_lambda=30, subsample=0.6; total time=   0.6s\n",
      "[CV] END colsample_bytree=0.4, learning_rate=0.005, max_depth=3, min_child_weight=2, n_estimators=200, reg_alpha=0, reg_lambda=30, subsample=0.6; total time=   0.6s\n",
      "[CV] END colsample_bytree=0.4, learning_rate=0.005, max_depth=3, min_child_weight=2, n_estimators=200, reg_alpha=0, reg_lambda=30, subsample=0.6; total time=   0.6s\n",
      "[CV] END colsample_bytree=0.4, learning_rate=0.005, max_depth=3, min_child_weight=2, n_estimators=200, reg_alpha=0, reg_lambda=30, subsample=0.6; total time=   0.6s\n",
      "[CV] END colsample_bytree=0.4, learning_rate=0.005, max_depth=5, min_child_weight=3, n_estimators=200, reg_alpha=10, reg_lambda=25, subsample=0.9; total time=   1.0s\n",
      "[CV] END colsample_bytree=0.4, learning_rate=0.005, max_depth=5, min_child_weight=3, n_estimators=200, reg_alpha=10, reg_lambda=25, subsample=0.9; total time=   1.1s\n",
      "[CV] END colsample_bytree=0.4, learning_rate=0.005, max_depth=5, min_child_weight=3, n_estimators=200, reg_alpha=10, reg_lambda=25, subsample=0.9; total time=   1.0s\n",
      "[CV] END colsample_bytree=0.4, learning_rate=0.005, max_depth=5, min_child_weight=3, n_estimators=200, reg_alpha=10, reg_lambda=25, subsample=0.9; total time=   0.7s\n",
      "[CV] END colsample_bytree=0.4, learning_rate=0.005, max_depth=5, min_child_weight=3, n_estimators=200, reg_alpha=10, reg_lambda=25, subsample=0.9; total time=   0.6s\n",
      "[CV] END colsample_bytree=0.4, learning_rate=0.1, max_depth=5, min_child_weight=3, n_estimators=100, reg_alpha=25, reg_lambda=1, subsample=1.0; total time=   0.2s\n",
      "[CV] END colsample_bytree=0.4, learning_rate=0.1, max_depth=5, min_child_weight=3, n_estimators=100, reg_alpha=25, reg_lambda=1, subsample=1.0; total time=   0.2s\n",
      "[CV] END colsample_bytree=0.4, learning_rate=0.1, max_depth=5, min_child_weight=3, n_estimators=100, reg_alpha=25, reg_lambda=1, subsample=1.0; total time=   0.2s\n",
      "[CV] END colsample_bytree=0.4, learning_rate=0.1, max_depth=5, min_child_weight=3, n_estimators=100, reg_alpha=25, reg_lambda=1, subsample=1.0; total time=   0.2s\n",
      "[CV] END colsample_bytree=0.4, learning_rate=0.1, max_depth=5, min_child_weight=3, n_estimators=100, reg_alpha=25, reg_lambda=1, subsample=1.0; total time=   0.2s\n",
      "[CV] END colsample_bytree=0.6, learning_rate=0.005, max_depth=4, min_child_weight=3, n_estimators=500, reg_alpha=20, reg_lambda=1, subsample=0.6; total time=   1.3s\n",
      "[CV] END colsample_bytree=0.6, learning_rate=0.005, max_depth=4, min_child_weight=3, n_estimators=500, reg_alpha=20, reg_lambda=1, subsample=0.6; total time=   1.2s\n"
     ]
    },
    {
     "name": "stdout",
     "output_type": "stream",
     "text": [
      "[CV] END colsample_bytree=0.6, learning_rate=0.005, max_depth=4, min_child_weight=3, n_estimators=500, reg_alpha=20, reg_lambda=1, subsample=0.6; total time=   1.1s\n",
      "[CV] END colsample_bytree=0.6, learning_rate=0.005, max_depth=4, min_child_weight=3, n_estimators=500, reg_alpha=20, reg_lambda=1, subsample=0.6; total time=   1.1s\n",
      "[CV] END colsample_bytree=0.6, learning_rate=0.005, max_depth=4, min_child_weight=3, n_estimators=500, reg_alpha=20, reg_lambda=1, subsample=0.6; total time=   1.1s\n",
      "[CV] END colsample_bytree=0.9, learning_rate=0.01, max_depth=3, min_child_weight=1, n_estimators=500, reg_alpha=30, reg_lambda=25, subsample=0.3; total time=   0.5s\n",
      "[CV] END colsample_bytree=0.9, learning_rate=0.01, max_depth=3, min_child_weight=1, n_estimators=500, reg_alpha=30, reg_lambda=25, subsample=0.3; total time=   0.5s\n",
      "[CV] END colsample_bytree=0.9, learning_rate=0.01, max_depth=3, min_child_weight=1, n_estimators=500, reg_alpha=30, reg_lambda=25, subsample=0.3; total time=   0.5s\n",
      "[CV] END colsample_bytree=0.9, learning_rate=0.01, max_depth=3, min_child_weight=1, n_estimators=500, reg_alpha=30, reg_lambda=25, subsample=0.3; total time=   0.4s\n",
      "[CV] END colsample_bytree=0.9, learning_rate=0.01, max_depth=3, min_child_weight=1, n_estimators=500, reg_alpha=30, reg_lambda=25, subsample=0.3; total time=   0.5s\n",
      "[CV] END colsample_bytree=0.4, learning_rate=0.1, max_depth=3, min_child_weight=2, n_estimators=50, reg_alpha=5, reg_lambda=0.1, subsample=0.9; total time=   0.1s\n",
      "[CV] END colsample_bytree=0.4, learning_rate=0.1, max_depth=3, min_child_weight=2, n_estimators=50, reg_alpha=5, reg_lambda=0.1, subsample=0.9; total time=   0.1s\n",
      "[CV] END colsample_bytree=0.4, learning_rate=0.1, max_depth=3, min_child_weight=2, n_estimators=50, reg_alpha=5, reg_lambda=0.1, subsample=0.9; total time=   0.1s\n",
      "[CV] END colsample_bytree=0.4, learning_rate=0.1, max_depth=3, min_child_weight=2, n_estimators=50, reg_alpha=5, reg_lambda=0.1, subsample=0.9; total time=   0.1s\n",
      "[CV] END colsample_bytree=0.4, learning_rate=0.1, max_depth=3, min_child_weight=2, n_estimators=50, reg_alpha=5, reg_lambda=0.1, subsample=0.9; total time=   0.1s\n",
      "[CV] END colsample_bytree=0.4, learning_rate=0.1, max_depth=7, min_child_weight=1, n_estimators=100, reg_alpha=0, reg_lambda=20, subsample=0.3; total time=   0.3s\n",
      "[CV] END colsample_bytree=0.4, learning_rate=0.1, max_depth=7, min_child_weight=1, n_estimators=100, reg_alpha=0, reg_lambda=20, subsample=0.3; total time=   0.4s\n",
      "[CV] END colsample_bytree=0.4, learning_rate=0.1, max_depth=7, min_child_weight=1, n_estimators=100, reg_alpha=0, reg_lambda=20, subsample=0.3; total time=   0.4s\n",
      "[CV] END colsample_bytree=0.4, learning_rate=0.1, max_depth=7, min_child_weight=1, n_estimators=100, reg_alpha=0, reg_lambda=20, subsample=0.3; total time=   0.4s\n",
      "[CV] END colsample_bytree=0.4, learning_rate=0.1, max_depth=7, min_child_weight=1, n_estimators=100, reg_alpha=0, reg_lambda=20, subsample=0.3; total time=   0.4s\n",
      "[CV] END colsample_bytree=0.7, learning_rate=0.005, max_depth=6, min_child_weight=1, n_estimators=500, reg_alpha=10, reg_lambda=30, subsample=0.8; total time=   2.1s\n",
      "[CV] END colsample_bytree=0.7, learning_rate=0.005, max_depth=6, min_child_weight=1, n_estimators=500, reg_alpha=10, reg_lambda=30, subsample=0.8; total time=   1.8s\n",
      "[CV] END colsample_bytree=0.7, learning_rate=0.005, max_depth=6, min_child_weight=1, n_estimators=500, reg_alpha=10, reg_lambda=30, subsample=0.8; total time=   1.9s\n",
      "[CV] END colsample_bytree=0.7, learning_rate=0.005, max_depth=6, min_child_weight=1, n_estimators=500, reg_alpha=10, reg_lambda=30, subsample=0.8; total time=   1.9s\n",
      "[CV] END colsample_bytree=0.7, learning_rate=0.005, max_depth=6, min_child_weight=1, n_estimators=500, reg_alpha=10, reg_lambda=30, subsample=0.8; total time=   1.8s\n",
      "[CV] END colsample_bytree=1.0, learning_rate=0.1, max_depth=5, min_child_weight=3, n_estimators=1000, reg_alpha=30, reg_lambda=25, subsample=0.4; total time=   0.8s\n",
      "[CV] END colsample_bytree=1.0, learning_rate=0.1, max_depth=5, min_child_weight=3, n_estimators=1000, reg_alpha=30, reg_lambda=25, subsample=0.4; total time=   0.9s\n",
      "[CV] END colsample_bytree=1.0, learning_rate=0.1, max_depth=5, min_child_weight=3, n_estimators=1000, reg_alpha=30, reg_lambda=25, subsample=0.4; total time=   0.8s\n",
      "[CV] END colsample_bytree=1.0, learning_rate=0.1, max_depth=5, min_child_weight=3, n_estimators=1000, reg_alpha=30, reg_lambda=25, subsample=0.4; total time=   0.8s\n",
      "[CV] END colsample_bytree=1.0, learning_rate=0.1, max_depth=5, min_child_weight=3, n_estimators=1000, reg_alpha=30, reg_lambda=25, subsample=0.4; total time=   0.8s\n",
      "[CV] END colsample_bytree=0.7, learning_rate=0.005, max_depth=4, min_child_weight=2, n_estimators=200, reg_alpha=0.1, reg_lambda=25, subsample=0.7; total time=   0.5s\n",
      "[CV] END colsample_bytree=0.7, learning_rate=0.005, max_depth=4, min_child_weight=2, n_estimators=200, reg_alpha=0.1, reg_lambda=25, subsample=0.7; total time=   0.5s\n",
      "[CV] END colsample_bytree=0.7, learning_rate=0.005, max_depth=4, min_child_weight=2, n_estimators=200, reg_alpha=0.1, reg_lambda=25, subsample=0.7; total time=   0.5s\n",
      "[CV] END colsample_bytree=0.7, learning_rate=0.005, max_depth=4, min_child_weight=2, n_estimators=200, reg_alpha=0.1, reg_lambda=25, subsample=0.7; total time=   0.5s\n",
      "[CV] END colsample_bytree=0.7, learning_rate=0.005, max_depth=4, min_child_weight=2, n_estimators=200, reg_alpha=0.1, reg_lambda=25, subsample=0.7; total time=   0.5s\n",
      "[CV] END colsample_bytree=0.4, learning_rate=0.01, max_depth=6, min_child_weight=3, n_estimators=200, reg_alpha=25, reg_lambda=0, subsample=0.9; total time=   0.5s\n",
      "[CV] END colsample_bytree=0.4, learning_rate=0.01, max_depth=6, min_child_weight=3, n_estimators=200, reg_alpha=25, reg_lambda=0, subsample=0.9; total time=   0.5s\n",
      "[CV] END colsample_bytree=0.4, learning_rate=0.01, max_depth=6, min_child_weight=3, n_estimators=200, reg_alpha=25, reg_lambda=0, subsample=0.9; total time=   0.5s\n",
      "[CV] END colsample_bytree=0.4, learning_rate=0.01, max_depth=6, min_child_weight=3, n_estimators=200, reg_alpha=25, reg_lambda=0, subsample=0.9; total time=   0.5s\n",
      "[CV] END colsample_bytree=0.4, learning_rate=0.01, max_depth=6, min_child_weight=3, n_estimators=200, reg_alpha=25, reg_lambda=0, subsample=0.9; total time=   0.6s\n",
      "[CV] END colsample_bytree=0.6, learning_rate=0.1, max_depth=5, min_child_weight=3, n_estimators=1000, reg_alpha=0.1, reg_lambda=10, subsample=1.0; total time=   1.8s\n",
      "[CV] END colsample_bytree=0.6, learning_rate=0.1, max_depth=5, min_child_weight=3, n_estimators=1000, reg_alpha=0.1, reg_lambda=10, subsample=1.0; total time=   1.8s\n",
      "[CV] END colsample_bytree=0.6, learning_rate=0.1, max_depth=5, min_child_weight=3, n_estimators=1000, reg_alpha=0.1, reg_lambda=10, subsample=1.0; total time=   1.8s\n",
      "[CV] END colsample_bytree=0.6, learning_rate=0.1, max_depth=5, min_child_weight=3, n_estimators=1000, reg_alpha=0.1, reg_lambda=10, subsample=1.0; total time=   1.5s\n",
      "[CV] END colsample_bytree=0.6, learning_rate=0.1, max_depth=5, min_child_weight=3, n_estimators=1000, reg_alpha=0.1, reg_lambda=10, subsample=1.0; total time=   1.9s\n",
      "[CV] END colsample_bytree=0.3, learning_rate=0.1, max_depth=6, min_child_weight=3, n_estimators=1000, reg_alpha=25, reg_lambda=0, subsample=0.4; total time=   1.1s\n",
      "[CV] END colsample_bytree=0.3, learning_rate=0.1, max_depth=6, min_child_weight=3, n_estimators=1000, reg_alpha=25, reg_lambda=0, subsample=0.4; total time=   0.9s\n",
      "[CV] END colsample_bytree=0.3, learning_rate=0.1, max_depth=6, min_child_weight=3, n_estimators=1000, reg_alpha=25, reg_lambda=0, subsample=0.4; total time=   0.8s\n",
      "[CV] END colsample_bytree=0.3, learning_rate=0.1, max_depth=6, min_child_weight=3, n_estimators=1000, reg_alpha=25, reg_lambda=0, subsample=0.4; total time=   0.9s\n",
      "[CV] END colsample_bytree=0.3, learning_rate=0.1, max_depth=6, min_child_weight=3, n_estimators=1000, reg_alpha=25, reg_lambda=0, subsample=0.4; total time=   0.8s\n",
      "[CV] END colsample_bytree=0.8, learning_rate=0.001, max_depth=4, min_child_weight=3, n_estimators=100, reg_alpha=10, reg_lambda=0.1, subsample=0.8; total time=   0.3s\n",
      "[CV] END colsample_bytree=0.8, learning_rate=0.001, max_depth=4, min_child_weight=3, n_estimators=100, reg_alpha=10, reg_lambda=0.1, subsample=0.8; total time=   0.5s\n"
     ]
    },
    {
     "name": "stdout",
     "output_type": "stream",
     "text": [
      "[CV] END colsample_bytree=0.8, learning_rate=0.001, max_depth=4, min_child_weight=3, n_estimators=100, reg_alpha=10, reg_lambda=0.1, subsample=0.8; total time=   0.3s\n",
      "[CV] END colsample_bytree=0.8, learning_rate=0.001, max_depth=4, min_child_weight=3, n_estimators=100, reg_alpha=10, reg_lambda=0.1, subsample=0.8; total time=   0.2s\n",
      "[CV] END colsample_bytree=0.8, learning_rate=0.001, max_depth=4, min_child_weight=3, n_estimators=100, reg_alpha=10, reg_lambda=0.1, subsample=0.8; total time=   0.3s\n",
      "[CV] END colsample_bytree=0.9, learning_rate=0.001, max_depth=4, min_child_weight=3, n_estimators=500, reg_alpha=5, reg_lambda=5, subsample=0.9; total time=   1.5s\n",
      "[CV] END colsample_bytree=0.9, learning_rate=0.001, max_depth=4, min_child_weight=3, n_estimators=500, reg_alpha=5, reg_lambda=5, subsample=0.9; total time=   1.2s\n",
      "[CV] END colsample_bytree=0.9, learning_rate=0.001, max_depth=4, min_child_weight=3, n_estimators=500, reg_alpha=5, reg_lambda=5, subsample=0.9; total time=   1.5s\n",
      "[CV] END colsample_bytree=0.9, learning_rate=0.001, max_depth=4, min_child_weight=3, n_estimators=500, reg_alpha=5, reg_lambda=5, subsample=0.9; total time=   1.8s\n",
      "[CV] END colsample_bytree=0.9, learning_rate=0.001, max_depth=4, min_child_weight=3, n_estimators=500, reg_alpha=5, reg_lambda=5, subsample=0.9; total time=   1.7s\n",
      "[CV] END colsample_bytree=0.9, learning_rate=0.005, max_depth=6, min_child_weight=1, n_estimators=500, reg_alpha=25, reg_lambda=5, subsample=1.0; total time=   2.2s\n",
      "[CV] END colsample_bytree=0.9, learning_rate=0.005, max_depth=6, min_child_weight=1, n_estimators=500, reg_alpha=25, reg_lambda=5, subsample=1.0; total time=   2.4s\n",
      "[CV] END colsample_bytree=0.9, learning_rate=0.005, max_depth=6, min_child_weight=1, n_estimators=500, reg_alpha=25, reg_lambda=5, subsample=1.0; total time=   1.6s\n",
      "[CV] END colsample_bytree=0.9, learning_rate=0.005, max_depth=6, min_child_weight=1, n_estimators=500, reg_alpha=25, reg_lambda=5, subsample=1.0; total time=   1.5s\n",
      "[CV] END colsample_bytree=0.9, learning_rate=0.005, max_depth=6, min_child_weight=1, n_estimators=500, reg_alpha=25, reg_lambda=5, subsample=1.0; total time=   1.6s\n",
      "[CV] END colsample_bytree=0.3, learning_rate=0.1, max_depth=7, min_child_weight=1, n_estimators=50, reg_alpha=20, reg_lambda=1, subsample=0.3; total time=   0.0s\n",
      "[CV] END colsample_bytree=0.3, learning_rate=0.1, max_depth=7, min_child_weight=1, n_estimators=50, reg_alpha=20, reg_lambda=1, subsample=0.3; total time=   0.1s\n",
      "[CV] END colsample_bytree=0.3, learning_rate=0.1, max_depth=7, min_child_weight=1, n_estimators=50, reg_alpha=20, reg_lambda=1, subsample=0.3; total time=   0.1s\n",
      "[CV] END colsample_bytree=0.3, learning_rate=0.1, max_depth=7, min_child_weight=1, n_estimators=50, reg_alpha=20, reg_lambda=1, subsample=0.3; total time=   0.1s\n",
      "[CV] END colsample_bytree=0.3, learning_rate=0.1, max_depth=7, min_child_weight=1, n_estimators=50, reg_alpha=20, reg_lambda=1, subsample=0.3; total time=   0.1s\n",
      "[CV] END colsample_bytree=0.9, learning_rate=0.001, max_depth=7, min_child_weight=3, n_estimators=100, reg_alpha=0, reg_lambda=10, subsample=1.0; total time=   0.4s\n",
      "[CV] END colsample_bytree=0.9, learning_rate=0.001, max_depth=7, min_child_weight=3, n_estimators=100, reg_alpha=0, reg_lambda=10, subsample=1.0; total time=   0.3s\n",
      "[CV] END colsample_bytree=0.9, learning_rate=0.001, max_depth=7, min_child_weight=3, n_estimators=100, reg_alpha=0, reg_lambda=10, subsample=1.0; total time=   0.3s\n",
      "[CV] END colsample_bytree=0.9, learning_rate=0.001, max_depth=7, min_child_weight=3, n_estimators=100, reg_alpha=0, reg_lambda=10, subsample=1.0; total time=   0.3s\n",
      "[CV] END colsample_bytree=0.9, learning_rate=0.001, max_depth=7, min_child_weight=3, n_estimators=100, reg_alpha=0, reg_lambda=10, subsample=1.0; total time=   0.4s\n",
      "[CV] END colsample_bytree=0.7, learning_rate=0.1, max_depth=6, min_child_weight=1, n_estimators=100, reg_alpha=25, reg_lambda=30, subsample=0.3; total time=   0.1s\n",
      "[CV] END colsample_bytree=0.7, learning_rate=0.1, max_depth=6, min_child_weight=1, n_estimators=100, reg_alpha=25, reg_lambda=30, subsample=0.3; total time=   0.1s\n",
      "[CV] END colsample_bytree=0.7, learning_rate=0.1, max_depth=6, min_child_weight=1, n_estimators=100, reg_alpha=25, reg_lambda=30, subsample=0.3; total time=   0.1s\n",
      "[CV] END colsample_bytree=0.7, learning_rate=0.1, max_depth=6, min_child_weight=1, n_estimators=100, reg_alpha=25, reg_lambda=30, subsample=0.3; total time=   0.1s\n",
      "[CV] END colsample_bytree=0.7, learning_rate=0.1, max_depth=6, min_child_weight=1, n_estimators=100, reg_alpha=25, reg_lambda=30, subsample=0.3; total time=   0.1s\n",
      "[CV] END colsample_bytree=0.8, learning_rate=0.001, max_depth=5, min_child_weight=2, n_estimators=200, reg_alpha=0, reg_lambda=1, subsample=0.4; total time=   0.6s\n",
      "[CV] END colsample_bytree=0.8, learning_rate=0.001, max_depth=5, min_child_weight=2, n_estimators=200, reg_alpha=0, reg_lambda=1, subsample=0.4; total time=   0.5s\n",
      "[CV] END colsample_bytree=0.8, learning_rate=0.001, max_depth=5, min_child_weight=2, n_estimators=200, reg_alpha=0, reg_lambda=1, subsample=0.4; total time=   0.6s\n",
      "[CV] END colsample_bytree=0.8, learning_rate=0.001, max_depth=5, min_child_weight=2, n_estimators=200, reg_alpha=0, reg_lambda=1, subsample=0.4; total time=   0.6s\n",
      "[CV] END colsample_bytree=0.8, learning_rate=0.001, max_depth=5, min_child_weight=2, n_estimators=200, reg_alpha=0, reg_lambda=1, subsample=0.4; total time=   0.6s\n",
      "[CV] END colsample_bytree=0.8, learning_rate=0.1, max_depth=7, min_child_weight=2, n_estimators=200, reg_alpha=20, reg_lambda=30, subsample=0.8; total time=   0.3s\n",
      "[CV] END colsample_bytree=0.8, learning_rate=0.1, max_depth=7, min_child_weight=2, n_estimators=200, reg_alpha=20, reg_lambda=30, subsample=0.8; total time=   0.3s\n",
      "[CV] END colsample_bytree=0.8, learning_rate=0.1, max_depth=7, min_child_weight=2, n_estimators=200, reg_alpha=20, reg_lambda=30, subsample=0.8; total time=   0.3s\n",
      "[CV] END colsample_bytree=0.8, learning_rate=0.1, max_depth=7, min_child_weight=2, n_estimators=200, reg_alpha=20, reg_lambda=30, subsample=0.8; total time=   0.6s\n",
      "[CV] END colsample_bytree=0.8, learning_rate=0.1, max_depth=7, min_child_weight=2, n_estimators=200, reg_alpha=20, reg_lambda=30, subsample=0.8; total time=   0.3s\n",
      "[CV] END colsample_bytree=1.0, learning_rate=0.001, max_depth=7, min_child_weight=2, n_estimators=200, reg_alpha=5, reg_lambda=20, subsample=0.6; total time=   0.6s\n",
      "[CV] END colsample_bytree=1.0, learning_rate=0.001, max_depth=7, min_child_weight=2, n_estimators=200, reg_alpha=5, reg_lambda=20, subsample=0.6; total time=   0.6s\n",
      "[CV] END colsample_bytree=1.0, learning_rate=0.001, max_depth=7, min_child_weight=2, n_estimators=200, reg_alpha=5, reg_lambda=20, subsample=0.6; total time=   0.8s\n",
      "[CV] END colsample_bytree=1.0, learning_rate=0.001, max_depth=7, min_child_weight=2, n_estimators=200, reg_alpha=5, reg_lambda=20, subsample=0.6; total time=   0.5s\n",
      "[CV] END colsample_bytree=1.0, learning_rate=0.001, max_depth=7, min_child_weight=2, n_estimators=200, reg_alpha=5, reg_lambda=20, subsample=0.6; total time=   0.7s\n",
      "[CV] END colsample_bytree=0.7, learning_rate=0.005, max_depth=5, min_child_weight=3, n_estimators=50, reg_alpha=1, reg_lambda=0.1, subsample=0.3; total time=   0.1s\n",
      "[CV] END colsample_bytree=0.7, learning_rate=0.005, max_depth=5, min_child_weight=3, n_estimators=50, reg_alpha=1, reg_lambda=0.1, subsample=0.3; total time=   0.1s\n",
      "[CV] END colsample_bytree=0.7, learning_rate=0.005, max_depth=5, min_child_weight=3, n_estimators=50, reg_alpha=1, reg_lambda=0.1, subsample=0.3; total time=   0.1s\n",
      "[CV] END colsample_bytree=0.7, learning_rate=0.005, max_depth=5, min_child_weight=3, n_estimators=50, reg_alpha=1, reg_lambda=0.1, subsample=0.3; total time=   0.2s\n",
      "[CV] END colsample_bytree=0.7, learning_rate=0.005, max_depth=5, min_child_weight=3, n_estimators=50, reg_alpha=1, reg_lambda=0.1, subsample=0.3; total time=   0.1s\n",
      "[CV] END colsample_bytree=0.6, learning_rate=0.1, max_depth=5, min_child_weight=3, n_estimators=50, reg_alpha=30, reg_lambda=20, subsample=1.0; total time=   0.1s\n",
      "[CV] END colsample_bytree=0.6, learning_rate=0.1, max_depth=5, min_child_weight=3, n_estimators=50, reg_alpha=30, reg_lambda=20, subsample=1.0; total time=   0.1s\n",
      "[CV] END colsample_bytree=0.6, learning_rate=0.1, max_depth=5, min_child_weight=3, n_estimators=50, reg_alpha=30, reg_lambda=20, subsample=1.0; total time=   0.1s\n"
     ]
    },
    {
     "name": "stdout",
     "output_type": "stream",
     "text": [
      "[CV] END colsample_bytree=0.6, learning_rate=0.1, max_depth=5, min_child_weight=3, n_estimators=50, reg_alpha=30, reg_lambda=20, subsample=1.0; total time=   0.1s\n",
      "[CV] END colsample_bytree=0.6, learning_rate=0.1, max_depth=5, min_child_weight=3, n_estimators=50, reg_alpha=30, reg_lambda=20, subsample=1.0; total time=   0.1s\n",
      "[CV] END colsample_bytree=0.3, learning_rate=0.01, max_depth=6, min_child_weight=1, n_estimators=200, reg_alpha=10, reg_lambda=30, subsample=0.3; total time=   0.4s\n",
      "[CV] END colsample_bytree=0.3, learning_rate=0.01, max_depth=6, min_child_weight=1, n_estimators=200, reg_alpha=10, reg_lambda=30, subsample=0.3; total time=   0.4s\n",
      "[CV] END colsample_bytree=0.3, learning_rate=0.01, max_depth=6, min_child_weight=1, n_estimators=200, reg_alpha=10, reg_lambda=30, subsample=0.3; total time=   0.5s\n",
      "[CV] END colsample_bytree=0.3, learning_rate=0.01, max_depth=6, min_child_weight=1, n_estimators=200, reg_alpha=10, reg_lambda=30, subsample=0.3; total time=   0.4s\n",
      "[CV] END colsample_bytree=0.3, learning_rate=0.01, max_depth=6, min_child_weight=1, n_estimators=200, reg_alpha=10, reg_lambda=30, subsample=0.3; total time=   0.4s\n",
      "[CV] END colsample_bytree=0.9, learning_rate=0.001, max_depth=4, min_child_weight=3, n_estimators=1000, reg_alpha=1, reg_lambda=30, subsample=0.8; total time=   3.0s\n",
      "[CV] END colsample_bytree=0.9, learning_rate=0.001, max_depth=4, min_child_weight=3, n_estimators=1000, reg_alpha=1, reg_lambda=30, subsample=0.8; total time=   2.3s\n",
      "[CV] END colsample_bytree=0.9, learning_rate=0.001, max_depth=4, min_child_weight=3, n_estimators=1000, reg_alpha=1, reg_lambda=30, subsample=0.8; total time=   2.4s\n",
      "[CV] END colsample_bytree=0.9, learning_rate=0.001, max_depth=4, min_child_weight=3, n_estimators=1000, reg_alpha=1, reg_lambda=30, subsample=0.8; total time=   2.3s\n",
      "[CV] END colsample_bytree=0.9, learning_rate=0.001, max_depth=4, min_child_weight=3, n_estimators=1000, reg_alpha=1, reg_lambda=30, subsample=0.8; total time=   2.3s\n",
      "[CV] END colsample_bytree=1.0, learning_rate=0.01, max_depth=7, min_child_weight=3, n_estimators=200, reg_alpha=0, reg_lambda=20, subsample=0.9; total time=   0.6s\n",
      "[CV] END colsample_bytree=1.0, learning_rate=0.01, max_depth=7, min_child_weight=3, n_estimators=200, reg_alpha=0, reg_lambda=20, subsample=0.9; total time=   0.7s\n",
      "[CV] END colsample_bytree=1.0, learning_rate=0.01, max_depth=7, min_child_weight=3, n_estimators=200, reg_alpha=0, reg_lambda=20, subsample=0.9; total time=   0.7s\n",
      "[CV] END colsample_bytree=1.0, learning_rate=0.01, max_depth=7, min_child_weight=3, n_estimators=200, reg_alpha=0, reg_lambda=20, subsample=0.9; total time=   0.6s\n",
      "[CV] END colsample_bytree=1.0, learning_rate=0.01, max_depth=7, min_child_weight=3, n_estimators=200, reg_alpha=0, reg_lambda=20, subsample=0.9; total time=   0.7s\n",
      "[CV] END colsample_bytree=0.8, learning_rate=0.01, max_depth=3, min_child_weight=2, n_estimators=50, reg_alpha=30, reg_lambda=0.1, subsample=0.6; total time=   0.1s\n",
      "[CV] END colsample_bytree=0.8, learning_rate=0.01, max_depth=3, min_child_weight=2, n_estimators=50, reg_alpha=30, reg_lambda=0.1, subsample=0.6; total time=   0.1s\n",
      "[CV] END colsample_bytree=0.8, learning_rate=0.01, max_depth=3, min_child_weight=2, n_estimators=50, reg_alpha=30, reg_lambda=0.1, subsample=0.6; total time=   0.1s\n",
      "[CV] END colsample_bytree=0.8, learning_rate=0.01, max_depth=3, min_child_weight=2, n_estimators=50, reg_alpha=30, reg_lambda=0.1, subsample=0.6; total time=   0.1s\n",
      "[CV] END colsample_bytree=0.8, learning_rate=0.01, max_depth=3, min_child_weight=2, n_estimators=50, reg_alpha=30, reg_lambda=0.1, subsample=0.6; total time=   0.1s\n",
      "[CV] END colsample_bytree=1.0, learning_rate=0.005, max_depth=4, min_child_weight=2, n_estimators=500, reg_alpha=10, reg_lambda=30, subsample=0.5; total time=   1.1s\n",
      "[CV] END colsample_bytree=1.0, learning_rate=0.005, max_depth=4, min_child_weight=2, n_estimators=500, reg_alpha=10, reg_lambda=30, subsample=0.5; total time=   1.1s\n",
      "[CV] END colsample_bytree=1.0, learning_rate=0.005, max_depth=4, min_child_weight=2, n_estimators=500, reg_alpha=10, reg_lambda=30, subsample=0.5; total time=   1.0s\n",
      "[CV] END colsample_bytree=1.0, learning_rate=0.005, max_depth=4, min_child_weight=2, n_estimators=500, reg_alpha=10, reg_lambda=30, subsample=0.5; total time=   1.3s\n",
      "[CV] END colsample_bytree=1.0, learning_rate=0.005, max_depth=4, min_child_weight=2, n_estimators=500, reg_alpha=10, reg_lambda=30, subsample=0.5; total time=   1.1s\n",
      "[CV] END colsample_bytree=0.4, learning_rate=0.1, max_depth=7, min_child_weight=3, n_estimators=200, reg_alpha=1, reg_lambda=25, subsample=0.6; total time=   0.7s\n",
      "[CV] END colsample_bytree=0.4, learning_rate=0.1, max_depth=7, min_child_weight=3, n_estimators=200, reg_alpha=1, reg_lambda=25, subsample=0.6; total time=   0.5s\n",
      "[CV] END colsample_bytree=0.4, learning_rate=0.1, max_depth=7, min_child_weight=3, n_estimators=200, reg_alpha=1, reg_lambda=25, subsample=0.6; total time=   0.7s\n",
      "[CV] END colsample_bytree=0.4, learning_rate=0.1, max_depth=7, min_child_weight=3, n_estimators=200, reg_alpha=1, reg_lambda=25, subsample=0.6; total time=   1.0s\n",
      "[CV] END colsample_bytree=0.4, learning_rate=0.1, max_depth=7, min_child_weight=3, n_estimators=200, reg_alpha=1, reg_lambda=25, subsample=0.6; total time=   1.1s\n",
      "[CV] END colsample_bytree=0.9, learning_rate=0.01, max_depth=5, min_child_weight=2, n_estimators=100, reg_alpha=1, reg_lambda=5, subsample=0.5; total time=   0.5s\n",
      "[CV] END colsample_bytree=0.9, learning_rate=0.01, max_depth=5, min_child_weight=2, n_estimators=100, reg_alpha=1, reg_lambda=5, subsample=0.5; total time=   0.4s\n",
      "[CV] END colsample_bytree=0.9, learning_rate=0.01, max_depth=5, min_child_weight=2, n_estimators=100, reg_alpha=1, reg_lambda=5, subsample=0.5; total time=   0.3s\n",
      "[CV] END colsample_bytree=0.9, learning_rate=0.01, max_depth=5, min_child_weight=2, n_estimators=100, reg_alpha=1, reg_lambda=5, subsample=0.5; total time=   0.3s\n",
      "[CV] END colsample_bytree=0.9, learning_rate=0.01, max_depth=5, min_child_weight=2, n_estimators=100, reg_alpha=1, reg_lambda=5, subsample=0.5; total time=   0.4s\n",
      "[CV] END colsample_bytree=0.7, learning_rate=0.1, max_depth=7, min_child_weight=3, n_estimators=100, reg_alpha=0, reg_lambda=10, subsample=0.3; total time=   0.4s\n",
      "[CV] END colsample_bytree=0.7, learning_rate=0.1, max_depth=7, min_child_weight=3, n_estimators=100, reg_alpha=0, reg_lambda=10, subsample=0.3; total time=   0.3s\n",
      "[CV] END colsample_bytree=0.7, learning_rate=0.1, max_depth=7, min_child_weight=3, n_estimators=100, reg_alpha=0, reg_lambda=10, subsample=0.3; total time=   0.3s\n",
      "[CV] END colsample_bytree=0.7, learning_rate=0.1, max_depth=7, min_child_weight=3, n_estimators=100, reg_alpha=0, reg_lambda=10, subsample=0.3; total time=   0.3s\n",
      "[CV] END colsample_bytree=0.7, learning_rate=0.1, max_depth=7, min_child_weight=3, n_estimators=100, reg_alpha=0, reg_lambda=10, subsample=0.3; total time=   0.3s\n",
      "[CV] END colsample_bytree=0.8, learning_rate=0.001, max_depth=6, min_child_weight=1, n_estimators=50, reg_alpha=25, reg_lambda=0, subsample=0.5; total time=   0.2s\n",
      "[CV] END colsample_bytree=0.8, learning_rate=0.001, max_depth=6, min_child_weight=1, n_estimators=50, reg_alpha=25, reg_lambda=0, subsample=0.5; total time=   0.2s\n",
      "[CV] END colsample_bytree=0.8, learning_rate=0.001, max_depth=6, min_child_weight=1, n_estimators=50, reg_alpha=25, reg_lambda=0, subsample=0.5; total time=   0.2s\n",
      "[CV] END colsample_bytree=0.8, learning_rate=0.001, max_depth=6, min_child_weight=1, n_estimators=50, reg_alpha=25, reg_lambda=0, subsample=0.5; total time=   0.2s\n",
      "[CV] END colsample_bytree=0.8, learning_rate=0.001, max_depth=6, min_child_weight=1, n_estimators=50, reg_alpha=25, reg_lambda=0, subsample=0.5; total time=   0.2s\n",
      "[CV] END colsample_bytree=0.7, learning_rate=0.1, max_depth=3, min_child_weight=3, n_estimators=100, reg_alpha=10, reg_lambda=20, subsample=0.4; total time=   0.1s\n",
      "[CV] END colsample_bytree=0.7, learning_rate=0.1, max_depth=3, min_child_weight=3, n_estimators=100, reg_alpha=10, reg_lambda=20, subsample=0.4; total time=   0.2s\n",
      "[CV] END colsample_bytree=0.7, learning_rate=0.1, max_depth=3, min_child_weight=3, n_estimators=100, reg_alpha=10, reg_lambda=20, subsample=0.4; total time=   0.2s\n"
     ]
    },
    {
     "name": "stdout",
     "output_type": "stream",
     "text": [
      "[CV] END colsample_bytree=0.7, learning_rate=0.1, max_depth=3, min_child_weight=3, n_estimators=100, reg_alpha=10, reg_lambda=20, subsample=0.4; total time=   0.2s\n",
      "[CV] END colsample_bytree=0.7, learning_rate=0.1, max_depth=3, min_child_weight=3, n_estimators=100, reg_alpha=10, reg_lambda=20, subsample=0.4; total time=   0.2s\n",
      "[CV] END colsample_bytree=0.8, learning_rate=0.01, max_depth=3, min_child_weight=3, n_estimators=500, reg_alpha=30, reg_lambda=0, subsample=0.3; total time=   0.5s\n",
      "[CV] END colsample_bytree=0.8, learning_rate=0.01, max_depth=3, min_child_weight=3, n_estimators=500, reg_alpha=30, reg_lambda=0, subsample=0.3; total time=   0.4s\n",
      "[CV] END colsample_bytree=0.8, learning_rate=0.01, max_depth=3, min_child_weight=3, n_estimators=500, reg_alpha=30, reg_lambda=0, subsample=0.3; total time=   0.5s\n",
      "[CV] END colsample_bytree=0.8, learning_rate=0.01, max_depth=3, min_child_weight=3, n_estimators=500, reg_alpha=30, reg_lambda=0, subsample=0.3; total time=   0.5s\n",
      "[CV] END colsample_bytree=0.8, learning_rate=0.01, max_depth=3, min_child_weight=3, n_estimators=500, reg_alpha=30, reg_lambda=0, subsample=0.3; total time=   0.5s\n",
      "[CV] END colsample_bytree=0.6, learning_rate=0.1, max_depth=5, min_child_weight=3, n_estimators=500, reg_alpha=10, reg_lambda=25, subsample=0.8; total time=   1.1s\n",
      "[CV] END colsample_bytree=0.6, learning_rate=0.1, max_depth=5, min_child_weight=3, n_estimators=500, reg_alpha=10, reg_lambda=25, subsample=0.8; total time=   0.8s\n",
      "[CV] END colsample_bytree=0.6, learning_rate=0.1, max_depth=5, min_child_weight=3, n_estimators=500, reg_alpha=10, reg_lambda=25, subsample=0.8; total time=   1.4s\n",
      "[CV] END colsample_bytree=0.6, learning_rate=0.1, max_depth=5, min_child_weight=3, n_estimators=500, reg_alpha=10, reg_lambda=25, subsample=0.8; total time=   1.2s\n",
      "[CV] END colsample_bytree=0.6, learning_rate=0.1, max_depth=5, min_child_weight=3, n_estimators=500, reg_alpha=10, reg_lambda=25, subsample=0.8; total time=   0.9s\n",
      "[CV] END colsample_bytree=0.6, learning_rate=0.1, max_depth=6, min_child_weight=1, n_estimators=200, reg_alpha=30, reg_lambda=5, subsample=0.9; total time=   0.3s\n",
      "[CV] END colsample_bytree=0.6, learning_rate=0.1, max_depth=6, min_child_weight=1, n_estimators=200, reg_alpha=30, reg_lambda=5, subsample=0.9; total time=   0.3s\n",
      "[CV] END colsample_bytree=0.6, learning_rate=0.1, max_depth=6, min_child_weight=1, n_estimators=200, reg_alpha=30, reg_lambda=5, subsample=0.9; total time=   0.4s\n",
      "[CV] END colsample_bytree=0.6, learning_rate=0.1, max_depth=6, min_child_weight=1, n_estimators=200, reg_alpha=30, reg_lambda=5, subsample=0.9; total time=   0.4s\n",
      "[CV] END colsample_bytree=0.6, learning_rate=0.1, max_depth=6, min_child_weight=1, n_estimators=200, reg_alpha=30, reg_lambda=5, subsample=0.9; total time=   0.4s\n",
      "[CV] END colsample_bytree=0.5, learning_rate=0.001, max_depth=7, min_child_weight=1, n_estimators=100, reg_alpha=1, reg_lambda=1, subsample=0.3; total time=   0.5s\n",
      "[CV] END colsample_bytree=0.5, learning_rate=0.001, max_depth=7, min_child_weight=1, n_estimators=100, reg_alpha=1, reg_lambda=1, subsample=0.3; total time=   0.5s\n",
      "[CV] END colsample_bytree=0.5, learning_rate=0.001, max_depth=7, min_child_weight=1, n_estimators=100, reg_alpha=1, reg_lambda=1, subsample=0.3; total time=   0.6s\n",
      "[CV] END colsample_bytree=0.5, learning_rate=0.001, max_depth=7, min_child_weight=1, n_estimators=100, reg_alpha=1, reg_lambda=1, subsample=0.3; total time=   0.5s\n",
      "[CV] END colsample_bytree=0.5, learning_rate=0.001, max_depth=7, min_child_weight=1, n_estimators=100, reg_alpha=1, reg_lambda=1, subsample=0.3; total time=   0.4s\n",
      "[CV] END colsample_bytree=0.3, learning_rate=0.005, max_depth=6, min_child_weight=1, n_estimators=500, reg_alpha=30, reg_lambda=5, subsample=0.8; total time=   1.8s\n",
      "[CV] END colsample_bytree=0.3, learning_rate=0.005, max_depth=6, min_child_weight=1, n_estimators=500, reg_alpha=30, reg_lambda=5, subsample=0.8; total time=   1.6s\n",
      "[CV] END colsample_bytree=0.3, learning_rate=0.005, max_depth=6, min_child_weight=1, n_estimators=500, reg_alpha=30, reg_lambda=5, subsample=0.8; total time=   1.4s\n",
      "[CV] END colsample_bytree=0.3, learning_rate=0.005, max_depth=6, min_child_weight=1, n_estimators=500, reg_alpha=30, reg_lambda=5, subsample=0.8; total time=   1.4s\n",
      "[CV] END colsample_bytree=0.3, learning_rate=0.005, max_depth=6, min_child_weight=1, n_estimators=500, reg_alpha=30, reg_lambda=5, subsample=0.8; total time=   1.8s\n",
      "[CV] END colsample_bytree=0.4, learning_rate=0.005, max_depth=6, min_child_weight=2, n_estimators=500, reg_alpha=10, reg_lambda=20, subsample=0.3; total time=   1.0s\n",
      "[CV] END colsample_bytree=0.4, learning_rate=0.005, max_depth=6, min_child_weight=2, n_estimators=500, reg_alpha=10, reg_lambda=20, subsample=0.3; total time=   1.1s\n",
      "[CV] END colsample_bytree=0.4, learning_rate=0.005, max_depth=6, min_child_weight=2, n_estimators=500, reg_alpha=10, reg_lambda=20, subsample=0.3; total time=   1.4s\n",
      "[CV] END colsample_bytree=0.4, learning_rate=0.005, max_depth=6, min_child_weight=2, n_estimators=500, reg_alpha=10, reg_lambda=20, subsample=0.3; total time=   1.2s\n",
      "[CV] END colsample_bytree=0.4, learning_rate=0.005, max_depth=6, min_child_weight=2, n_estimators=500, reg_alpha=10, reg_lambda=20, subsample=0.3; total time=   1.0s\n",
      "[CV] END colsample_bytree=0.4, learning_rate=0.005, max_depth=3, min_child_weight=3, n_estimators=1000, reg_alpha=0.1, reg_lambda=0.1, subsample=1.0; total time=   2.6s\n",
      "[CV] END colsample_bytree=0.4, learning_rate=0.005, max_depth=3, min_child_weight=3, n_estimators=1000, reg_alpha=0.1, reg_lambda=0.1, subsample=1.0; total time=   2.2s\n",
      "[CV] END colsample_bytree=0.4, learning_rate=0.005, max_depth=3, min_child_weight=3, n_estimators=1000, reg_alpha=0.1, reg_lambda=0.1, subsample=1.0; total time=   2.1s\n",
      "[CV] END colsample_bytree=0.4, learning_rate=0.005, max_depth=3, min_child_weight=3, n_estimators=1000, reg_alpha=0.1, reg_lambda=0.1, subsample=1.0; total time=   2.2s\n",
      "[CV] END colsample_bytree=0.4, learning_rate=0.005, max_depth=3, min_child_weight=3, n_estimators=1000, reg_alpha=0.1, reg_lambda=0.1, subsample=1.0; total time=   2.0s\n",
      "[CV] END colsample_bytree=1.0, learning_rate=0.005, max_depth=3, min_child_weight=1, n_estimators=500, reg_alpha=5, reg_lambda=0, subsample=0.6; total time=   1.0s\n",
      "[CV] END colsample_bytree=1.0, learning_rate=0.005, max_depth=3, min_child_weight=1, n_estimators=500, reg_alpha=5, reg_lambda=0, subsample=0.6; total time=   1.2s\n",
      "[CV] END colsample_bytree=1.0, learning_rate=0.005, max_depth=3, min_child_weight=1, n_estimators=500, reg_alpha=5, reg_lambda=0, subsample=0.6; total time=   1.3s\n",
      "[CV] END colsample_bytree=1.0, learning_rate=0.005, max_depth=3, min_child_weight=1, n_estimators=500, reg_alpha=5, reg_lambda=0, subsample=0.6; total time=   1.1s\n",
      "[CV] END colsample_bytree=1.0, learning_rate=0.005, max_depth=3, min_child_weight=1, n_estimators=500, reg_alpha=5, reg_lambda=0, subsample=0.6; total time=   1.1s\n",
      "[CV] END colsample_bytree=0.3, learning_rate=0.1, max_depth=7, min_child_weight=2, n_estimators=50, reg_alpha=20, reg_lambda=5, subsample=0.5; total time=   0.1s\n",
      "[CV] END colsample_bytree=0.3, learning_rate=0.1, max_depth=7, min_child_weight=2, n_estimators=50, reg_alpha=20, reg_lambda=5, subsample=0.5; total time=   0.1s\n",
      "[CV] END colsample_bytree=0.3, learning_rate=0.1, max_depth=7, min_child_weight=2, n_estimators=50, reg_alpha=20, reg_lambda=5, subsample=0.5; total time=   0.1s\n",
      "[CV] END colsample_bytree=0.3, learning_rate=0.1, max_depth=7, min_child_weight=2, n_estimators=50, reg_alpha=20, reg_lambda=5, subsample=0.5; total time=   0.1s\n",
      "[CV] END colsample_bytree=0.3, learning_rate=0.1, max_depth=7, min_child_weight=2, n_estimators=50, reg_alpha=20, reg_lambda=5, subsample=0.5; total time=   0.1s\n",
      "[CV] END colsample_bytree=0.7, learning_rate=0.001, max_depth=6, min_child_weight=1, n_estimators=100, reg_alpha=0.1, reg_lambda=0, subsample=0.4; total time=   0.5s\n",
      "[CV] END colsample_bytree=0.7, learning_rate=0.001, max_depth=6, min_child_weight=1, n_estimators=100, reg_alpha=0.1, reg_lambda=0, subsample=0.4; total time=   0.4s\n",
      "[CV] END colsample_bytree=0.7, learning_rate=0.001, max_depth=6, min_child_weight=1, n_estimators=100, reg_alpha=0.1, reg_lambda=0, subsample=0.4; total time=   0.4s\n"
     ]
    },
    {
     "name": "stdout",
     "output_type": "stream",
     "text": [
      "[CV] END colsample_bytree=0.7, learning_rate=0.001, max_depth=6, min_child_weight=1, n_estimators=100, reg_alpha=0.1, reg_lambda=0, subsample=0.4; total time=   0.5s\n",
      "[CV] END colsample_bytree=0.7, learning_rate=0.001, max_depth=6, min_child_weight=1, n_estimators=100, reg_alpha=0.1, reg_lambda=0, subsample=0.4; total time=   0.4s\n",
      "[CV] END colsample_bytree=0.5, learning_rate=0.01, max_depth=3, min_child_weight=2, n_estimators=50, reg_alpha=0.1, reg_lambda=1, subsample=0.6; total time=   0.1s\n",
      "[CV] END colsample_bytree=0.5, learning_rate=0.01, max_depth=3, min_child_weight=2, n_estimators=50, reg_alpha=0.1, reg_lambda=1, subsample=0.6; total time=   0.1s\n",
      "[CV] END colsample_bytree=0.5, learning_rate=0.01, max_depth=3, min_child_weight=2, n_estimators=50, reg_alpha=0.1, reg_lambda=1, subsample=0.6; total time=   0.1s\n",
      "[CV] END colsample_bytree=0.5, learning_rate=0.01, max_depth=3, min_child_weight=2, n_estimators=50, reg_alpha=0.1, reg_lambda=1, subsample=0.6; total time=   0.1s\n",
      "[CV] END colsample_bytree=0.5, learning_rate=0.01, max_depth=3, min_child_weight=2, n_estimators=50, reg_alpha=0.1, reg_lambda=1, subsample=0.6; total time=   0.1s\n",
      "[CV] END colsample_bytree=0.8, learning_rate=0.005, max_depth=3, min_child_weight=3, n_estimators=1000, reg_alpha=20, reg_lambda=30, subsample=1.0; total time=   2.0s\n",
      "[CV] END colsample_bytree=0.8, learning_rate=0.005, max_depth=3, min_child_weight=3, n_estimators=1000, reg_alpha=20, reg_lambda=30, subsample=1.0; total time=   2.1s\n",
      "[CV] END colsample_bytree=0.8, learning_rate=0.005, max_depth=3, min_child_weight=3, n_estimators=1000, reg_alpha=20, reg_lambda=30, subsample=1.0; total time=   2.0s\n",
      "[CV] END colsample_bytree=0.8, learning_rate=0.005, max_depth=3, min_child_weight=3, n_estimators=1000, reg_alpha=20, reg_lambda=30, subsample=1.0; total time=   1.8s\n",
      "[CV] END colsample_bytree=0.8, learning_rate=0.005, max_depth=3, min_child_weight=3, n_estimators=1000, reg_alpha=20, reg_lambda=30, subsample=1.0; total time=   1.8s\n",
      "[CV] END colsample_bytree=0.3, learning_rate=0.005, max_depth=3, min_child_weight=2, n_estimators=50, reg_alpha=0.1, reg_lambda=20, subsample=0.4; total time=   0.1s\n",
      "[CV] END colsample_bytree=0.3, learning_rate=0.005, max_depth=3, min_child_weight=2, n_estimators=50, reg_alpha=0.1, reg_lambda=20, subsample=0.4; total time=   0.1s\n",
      "[CV] END colsample_bytree=0.3, learning_rate=0.005, max_depth=3, min_child_weight=2, n_estimators=50, reg_alpha=0.1, reg_lambda=20, subsample=0.4; total time=   0.1s\n",
      "[CV] END colsample_bytree=0.3, learning_rate=0.005, max_depth=3, min_child_weight=2, n_estimators=50, reg_alpha=0.1, reg_lambda=20, subsample=0.4; total time=   0.1s\n",
      "[CV] END colsample_bytree=0.3, learning_rate=0.005, max_depth=3, min_child_weight=2, n_estimators=50, reg_alpha=0.1, reg_lambda=20, subsample=0.4; total time=   0.1s\n",
      "[CV] END colsample_bytree=1.0, learning_rate=0.001, max_depth=4, min_child_weight=3, n_estimators=50, reg_alpha=1, reg_lambda=0, subsample=1.0; total time=   0.1s\n",
      "[CV] END colsample_bytree=1.0, learning_rate=0.001, max_depth=4, min_child_weight=3, n_estimators=50, reg_alpha=1, reg_lambda=0, subsample=1.0; total time=   0.1s\n",
      "[CV] END colsample_bytree=1.0, learning_rate=0.001, max_depth=4, min_child_weight=3, n_estimators=50, reg_alpha=1, reg_lambda=0, subsample=1.0; total time=   0.1s\n",
      "[CV] END colsample_bytree=1.0, learning_rate=0.001, max_depth=4, min_child_weight=3, n_estimators=50, reg_alpha=1, reg_lambda=0, subsample=1.0; total time=   0.1s\n",
      "[CV] END colsample_bytree=1.0, learning_rate=0.001, max_depth=4, min_child_weight=3, n_estimators=50, reg_alpha=1, reg_lambda=0, subsample=1.0; total time=   0.1s\n",
      "[CV] END colsample_bytree=0.7, learning_rate=0.001, max_depth=6, min_child_weight=1, n_estimators=100, reg_alpha=20, reg_lambda=20, subsample=0.3; total time=   0.2s\n",
      "[CV] END colsample_bytree=0.7, learning_rate=0.001, max_depth=6, min_child_weight=1, n_estimators=100, reg_alpha=20, reg_lambda=20, subsample=0.3; total time=   0.2s\n",
      "[CV] END colsample_bytree=0.7, learning_rate=0.001, max_depth=6, min_child_weight=1, n_estimators=100, reg_alpha=20, reg_lambda=20, subsample=0.3; total time=   0.2s\n",
      "[CV] END colsample_bytree=0.7, learning_rate=0.001, max_depth=6, min_child_weight=1, n_estimators=100, reg_alpha=20, reg_lambda=20, subsample=0.3; total time=   0.2s\n",
      "[CV] END colsample_bytree=0.7, learning_rate=0.001, max_depth=6, min_child_weight=1, n_estimators=100, reg_alpha=20, reg_lambda=20, subsample=0.3; total time=   0.3s\n",
      "[CV] END colsample_bytree=0.5, learning_rate=0.005, max_depth=5, min_child_weight=1, n_estimators=100, reg_alpha=0, reg_lambda=5, subsample=1.0; total time=   0.3s\n",
      "[CV] END colsample_bytree=0.5, learning_rate=0.005, max_depth=5, min_child_weight=1, n_estimators=100, reg_alpha=0, reg_lambda=5, subsample=1.0; total time=   0.4s\n",
      "[CV] END colsample_bytree=0.5, learning_rate=0.005, max_depth=5, min_child_weight=1, n_estimators=100, reg_alpha=0, reg_lambda=5, subsample=1.0; total time=   0.3s\n",
      "[CV] END colsample_bytree=0.5, learning_rate=0.005, max_depth=5, min_child_weight=1, n_estimators=100, reg_alpha=0, reg_lambda=5, subsample=1.0; total time=   0.3s\n",
      "[CV] END colsample_bytree=0.5, learning_rate=0.005, max_depth=5, min_child_weight=1, n_estimators=100, reg_alpha=0, reg_lambda=5, subsample=1.0; total time=   0.3s\n",
      "[CV] END colsample_bytree=0.8, learning_rate=0.1, max_depth=6, min_child_weight=3, n_estimators=50, reg_alpha=5, reg_lambda=10, subsample=0.6; total time=   0.2s\n",
      "[CV] END colsample_bytree=0.8, learning_rate=0.1, max_depth=6, min_child_weight=3, n_estimators=50, reg_alpha=5, reg_lambda=10, subsample=0.6; total time=   0.2s\n",
      "[CV] END colsample_bytree=0.8, learning_rate=0.1, max_depth=6, min_child_weight=3, n_estimators=50, reg_alpha=5, reg_lambda=10, subsample=0.6; total time=   0.2s\n",
      "[CV] END colsample_bytree=0.8, learning_rate=0.1, max_depth=6, min_child_weight=3, n_estimators=50, reg_alpha=5, reg_lambda=10, subsample=0.6; total time=   0.1s\n",
      "[CV] END colsample_bytree=0.8, learning_rate=0.1, max_depth=6, min_child_weight=3, n_estimators=50, reg_alpha=5, reg_lambda=10, subsample=0.6; total time=   0.2s\n",
      "[CV] END colsample_bytree=0.5, learning_rate=0.1, max_depth=3, min_child_weight=1, n_estimators=200, reg_alpha=1, reg_lambda=30, subsample=0.9; total time=   0.4s\n",
      "[CV] END colsample_bytree=0.5, learning_rate=0.1, max_depth=3, min_child_weight=1, n_estimators=200, reg_alpha=1, reg_lambda=30, subsample=0.9; total time=   0.4s\n",
      "[CV] END colsample_bytree=0.5, learning_rate=0.1, max_depth=3, min_child_weight=1, n_estimators=200, reg_alpha=1, reg_lambda=30, subsample=0.9; total time=   0.5s\n",
      "[CV] END colsample_bytree=0.5, learning_rate=0.1, max_depth=3, min_child_weight=1, n_estimators=200, reg_alpha=1, reg_lambda=30, subsample=0.9; total time=   0.4s\n",
      "[CV] END colsample_bytree=0.5, learning_rate=0.1, max_depth=3, min_child_weight=1, n_estimators=200, reg_alpha=1, reg_lambda=30, subsample=0.9; total time=   0.6s\n",
      "[CV] END colsample_bytree=0.3, learning_rate=0.005, max_depth=7, min_child_weight=2, n_estimators=1000, reg_alpha=1, reg_lambda=20, subsample=0.4; total time=   3.5s\n",
      "[CV] END colsample_bytree=0.3, learning_rate=0.005, max_depth=7, min_child_weight=2, n_estimators=1000, reg_alpha=1, reg_lambda=20, subsample=0.4; total time=   3.4s\n",
      "[CV] END colsample_bytree=0.3, learning_rate=0.005, max_depth=7, min_child_weight=2, n_estimators=1000, reg_alpha=1, reg_lambda=20, subsample=0.4; total time=   3.1s\n",
      "[CV] END colsample_bytree=0.3, learning_rate=0.005, max_depth=7, min_child_weight=2, n_estimators=1000, reg_alpha=1, reg_lambda=20, subsample=0.4; total time=   2.9s\n",
      "[CV] END colsample_bytree=0.3, learning_rate=0.005, max_depth=7, min_child_weight=2, n_estimators=1000, reg_alpha=1, reg_lambda=20, subsample=0.4; total time=   3.0s\n",
      "[CV] END colsample_bytree=0.9, learning_rate=0.1, max_depth=7, min_child_weight=2, n_estimators=1000, reg_alpha=25, reg_lambda=5, subsample=0.8; total time=   0.9s\n",
      "[CV] END colsample_bytree=0.9, learning_rate=0.1, max_depth=7, min_child_weight=2, n_estimators=1000, reg_alpha=25, reg_lambda=5, subsample=0.8; total time=   0.8s\n",
      "[CV] END colsample_bytree=0.9, learning_rate=0.1, max_depth=7, min_child_weight=2, n_estimators=1000, reg_alpha=25, reg_lambda=5, subsample=0.8; total time=   0.9s\n"
     ]
    },
    {
     "name": "stdout",
     "output_type": "stream",
     "text": [
      "[CV] END colsample_bytree=0.9, learning_rate=0.1, max_depth=7, min_child_weight=2, n_estimators=1000, reg_alpha=25, reg_lambda=5, subsample=0.8; total time=   1.0s\n",
      "[CV] END colsample_bytree=0.9, learning_rate=0.1, max_depth=7, min_child_weight=2, n_estimators=1000, reg_alpha=25, reg_lambda=5, subsample=0.8; total time=   0.9s\n",
      "[CV] END colsample_bytree=0.8, learning_rate=0.001, max_depth=7, min_child_weight=1, n_estimators=200, reg_alpha=0.1, reg_lambda=20, subsample=0.3; total time=   0.8s\n",
      "[CV] END colsample_bytree=0.8, learning_rate=0.001, max_depth=7, min_child_weight=1, n_estimators=200, reg_alpha=0.1, reg_lambda=20, subsample=0.3; total time=   0.8s\n",
      "[CV] END colsample_bytree=0.8, learning_rate=0.001, max_depth=7, min_child_weight=1, n_estimators=200, reg_alpha=0.1, reg_lambda=20, subsample=0.3; total time=   0.8s\n",
      "[CV] END colsample_bytree=0.8, learning_rate=0.001, max_depth=7, min_child_weight=1, n_estimators=200, reg_alpha=0.1, reg_lambda=20, subsample=0.3; total time=   1.0s\n",
      "[CV] END colsample_bytree=0.8, learning_rate=0.001, max_depth=7, min_child_weight=1, n_estimators=200, reg_alpha=0.1, reg_lambda=20, subsample=0.3; total time=   1.5s\n",
      "[CV] END colsample_bytree=0.7, learning_rate=0.01, max_depth=6, min_child_weight=2, n_estimators=500, reg_alpha=1, reg_lambda=25, subsample=0.4; total time=   2.6s\n",
      "[CV] END colsample_bytree=0.7, learning_rate=0.01, max_depth=6, min_child_weight=2, n_estimators=500, reg_alpha=1, reg_lambda=25, subsample=0.4; total time=   5.3s\n",
      "[CV] END colsample_bytree=0.7, learning_rate=0.01, max_depth=6, min_child_weight=2, n_estimators=500, reg_alpha=1, reg_lambda=25, subsample=0.4; total time=   4.6s\n",
      "[CV] END colsample_bytree=0.7, learning_rate=0.01, max_depth=6, min_child_weight=2, n_estimators=500, reg_alpha=1, reg_lambda=25, subsample=0.4; total time=   4.6s\n",
      "[CV] END colsample_bytree=0.7, learning_rate=0.01, max_depth=6, min_child_weight=2, n_estimators=500, reg_alpha=1, reg_lambda=25, subsample=0.4; total time=   3.0s\n",
      "[CV] END colsample_bytree=1.0, learning_rate=0.005, max_depth=6, min_child_weight=1, n_estimators=100, reg_alpha=20, reg_lambda=0.1, subsample=0.5; total time=   0.2s\n",
      "[CV] END colsample_bytree=1.0, learning_rate=0.005, max_depth=6, min_child_weight=1, n_estimators=100, reg_alpha=20, reg_lambda=0.1, subsample=0.5; total time=   0.3s\n",
      "[CV] END colsample_bytree=1.0, learning_rate=0.005, max_depth=6, min_child_weight=1, n_estimators=100, reg_alpha=20, reg_lambda=0.1, subsample=0.5; total time=   0.4s\n",
      "[CV] END colsample_bytree=1.0, learning_rate=0.005, max_depth=6, min_child_weight=1, n_estimators=100, reg_alpha=20, reg_lambda=0.1, subsample=0.5; total time=   0.5s\n",
      "[CV] END colsample_bytree=1.0, learning_rate=0.005, max_depth=6, min_child_weight=1, n_estimators=100, reg_alpha=20, reg_lambda=0.1, subsample=0.5; total time=   0.5s\n",
      "[CV] END colsample_bytree=0.6, learning_rate=0.001, max_depth=6, min_child_weight=1, n_estimators=50, reg_alpha=20, reg_lambda=0.1, subsample=0.4; total time=   0.2s\n",
      "[CV] END colsample_bytree=0.6, learning_rate=0.001, max_depth=6, min_child_weight=1, n_estimators=50, reg_alpha=20, reg_lambda=0.1, subsample=0.4; total time=   0.4s\n",
      "[CV] END colsample_bytree=0.6, learning_rate=0.001, max_depth=6, min_child_weight=1, n_estimators=50, reg_alpha=20, reg_lambda=0.1, subsample=0.4; total time=   0.2s\n",
      "[CV] END colsample_bytree=0.6, learning_rate=0.001, max_depth=6, min_child_weight=1, n_estimators=50, reg_alpha=20, reg_lambda=0.1, subsample=0.4; total time=   0.1s\n",
      "[CV] END colsample_bytree=0.6, learning_rate=0.001, max_depth=6, min_child_weight=1, n_estimators=50, reg_alpha=20, reg_lambda=0.1, subsample=0.4; total time=   0.1s\n",
      "[CV] END colsample_bytree=0.3, learning_rate=0.01, max_depth=3, min_child_weight=1, n_estimators=500, reg_alpha=10, reg_lambda=0, subsample=0.3; total time=   0.9s\n",
      "[CV] END colsample_bytree=0.3, learning_rate=0.01, max_depth=3, min_child_weight=1, n_estimators=500, reg_alpha=10, reg_lambda=0, subsample=0.3; total time=   0.9s\n",
      "[CV] END colsample_bytree=0.3, learning_rate=0.01, max_depth=3, min_child_weight=1, n_estimators=500, reg_alpha=10, reg_lambda=0, subsample=0.3; total time=   0.9s\n",
      "[CV] END colsample_bytree=0.3, learning_rate=0.01, max_depth=3, min_child_weight=1, n_estimators=500, reg_alpha=10, reg_lambda=0, subsample=0.3; total time=   0.8s\n",
      "[CV] END colsample_bytree=0.3, learning_rate=0.01, max_depth=3, min_child_weight=1, n_estimators=500, reg_alpha=10, reg_lambda=0, subsample=0.3; total time=   0.9s\n",
      "[CV] END colsample_bytree=0.5, learning_rate=0.1, max_depth=7, min_child_weight=3, n_estimators=100, reg_alpha=0, reg_lambda=25, subsample=0.5; total time=   0.4s\n",
      "[CV] END colsample_bytree=0.5, learning_rate=0.1, max_depth=7, min_child_weight=3, n_estimators=100, reg_alpha=0, reg_lambda=25, subsample=0.5; total time=   0.4s\n",
      "[CV] END colsample_bytree=0.5, learning_rate=0.1, max_depth=7, min_child_weight=3, n_estimators=100, reg_alpha=0, reg_lambda=25, subsample=0.5; total time=   0.3s\n",
      "[CV] END colsample_bytree=0.5, learning_rate=0.1, max_depth=7, min_child_weight=3, n_estimators=100, reg_alpha=0, reg_lambda=25, subsample=0.5; total time=   0.4s\n",
      "[CV] END colsample_bytree=0.5, learning_rate=0.1, max_depth=7, min_child_weight=3, n_estimators=100, reg_alpha=0, reg_lambda=25, subsample=0.5; total time=   0.3s\n",
      "[CV] END colsample_bytree=0.4, learning_rate=0.005, max_depth=5, min_child_weight=1, n_estimators=1000, reg_alpha=0, reg_lambda=10, subsample=0.5; total time=   3.1s\n",
      "[CV] END colsample_bytree=0.4, learning_rate=0.005, max_depth=5, min_child_weight=1, n_estimators=1000, reg_alpha=0, reg_lambda=10, subsample=0.5; total time=   3.9s\n",
      "[CV] END colsample_bytree=0.4, learning_rate=0.005, max_depth=5, min_child_weight=1, n_estimators=1000, reg_alpha=0, reg_lambda=10, subsample=0.5; total time=   5.3s\n",
      "[CV] END colsample_bytree=0.4, learning_rate=0.005, max_depth=5, min_child_weight=1, n_estimators=1000, reg_alpha=0, reg_lambda=10, subsample=0.5; total time=   4.3s\n",
      "[CV] END colsample_bytree=0.4, learning_rate=0.005, max_depth=5, min_child_weight=1, n_estimators=1000, reg_alpha=0, reg_lambda=10, subsample=0.5; total time=   3.8s\n",
      "[CV] END colsample_bytree=0.8, learning_rate=0.01, max_depth=5, min_child_weight=3, n_estimators=50, reg_alpha=20, reg_lambda=20, subsample=0.7; total time=   0.1s\n",
      "[CV] END colsample_bytree=0.8, learning_rate=0.01, max_depth=5, min_child_weight=3, n_estimators=50, reg_alpha=20, reg_lambda=20, subsample=0.7; total time=   0.2s\n",
      "[CV] END colsample_bytree=0.8, learning_rate=0.01, max_depth=5, min_child_weight=3, n_estimators=50, reg_alpha=20, reg_lambda=20, subsample=0.7; total time=   0.3s\n",
      "[CV] END colsample_bytree=0.8, learning_rate=0.01, max_depth=5, min_child_weight=3, n_estimators=50, reg_alpha=20, reg_lambda=20, subsample=0.7; total time=   0.2s\n",
      "[CV] END colsample_bytree=0.8, learning_rate=0.01, max_depth=5, min_child_weight=3, n_estimators=50, reg_alpha=20, reg_lambda=20, subsample=0.7; total time=   0.1s\n",
      "[CV] END colsample_bytree=0.7, learning_rate=0.1, max_depth=7, min_child_weight=3, n_estimators=200, reg_alpha=25, reg_lambda=10, subsample=0.8; total time=   0.3s\n",
      "[CV] END colsample_bytree=0.7, learning_rate=0.1, max_depth=7, min_child_weight=3, n_estimators=200, reg_alpha=25, reg_lambda=10, subsample=0.8; total time=   0.3s\n",
      "[CV] END colsample_bytree=0.7, learning_rate=0.1, max_depth=7, min_child_weight=3, n_estimators=200, reg_alpha=25, reg_lambda=10, subsample=0.8; total time=   0.3s\n",
      "[CV] END colsample_bytree=0.7, learning_rate=0.1, max_depth=7, min_child_weight=3, n_estimators=200, reg_alpha=25, reg_lambda=10, subsample=0.8; total time=   0.3s\n",
      "[CV] END colsample_bytree=0.7, learning_rate=0.1, max_depth=7, min_child_weight=3, n_estimators=200, reg_alpha=25, reg_lambda=10, subsample=0.8; total time=   0.3s\n",
      "Evaluating model\n"
     ]
    },
    {
     "name": "stderr",
     "output_type": "stream",
     "text": [
      "\r",
      " 11%|█████████████                                                                                                         | 1/9 [08:35<1:08:41, 515.25s/it]"
     ]
    },
    {
     "name": "stdout",
     "output_type": "stream",
     "text": [
      "Fitting model\n",
      "Evaluating model\n"
     ]
    },
    {
     "name": "stderr",
     "output_type": "stream",
     "text": [
      "\r",
      " 22%|██████████████████████████▋                                                                                             | 2/9 [08:59<26:26, 226.63s/it]"
     ]
    },
    {
     "name": "stdout",
     "output_type": "stream",
     "text": [
      "Fitting model\n",
      "Evaluating model\n"
     ]
    },
    {
     "name": "stderr",
     "output_type": "stream",
     "text": [
      "\r",
      " 33%|████████████████████████████████████████                                                                                | 3/9 [09:05<12:34, 125.69s/it]"
     ]
    },
    {
     "name": "stdout",
     "output_type": "stream",
     "text": [
      "Fitting model\n"
     ]
    },
    {
     "name": "stderr",
     "output_type": "stream",
     "text": [
      "\n",
      "0it [00:00, ?it/s]\u001b[A\n",
      "29it [00:00, 288.83it/s]\u001b[A\n",
      "60it [00:00, 298.08it/s]\u001b[A\n",
      "91it [00:00, 302.84it/s]\u001b[A\n",
      "132it [00:00, 302.46it/s]\u001b[A\n"
     ]
    },
    {
     "name": "stdout",
     "output_type": "stream",
     "text": [
      "Evaluating model\n"
     ]
    },
    {
     "name": "stderr",
     "output_type": "stream",
     "text": [
      "\n",
      "0it [00:00, ?it/s]\u001b[A\n",
      "17it [00:00, 162.96it/s]\u001b[A\n",
      "\n",
      "Iteration: 100%|██████████████████████████████████████████████████████████████████████████████████████████████████████████████| 1/1 [00:00<00:00, 13.17it/s]\u001b[A\n",
      " 44%|█████████████████████████████████████████████████████▊                                                                   | 4/9 [09:30<07:10, 86.01s/it]GPU available: False, used: False\n",
      "TPU available: False, using: 0 TPU cores\n",
      "IPU available: False, using: 0 IPUs\n",
      "HPU available: False, using: 0 HPUs\n",
      "Missing logger folder: /Users/pwalters/software/yamc/data/lightning_logs\n",
      "\n",
      "  | Name   | Type       | Params\n",
      "--------------------------------------\n",
      "0 | layers | Sequential | 20.2 K\n",
      "1 | loss   | MSELoss    | 0     \n",
      "--------------------------------------\n",
      "20.2 K    Trainable params\n",
      "0         Non-trainable params\n",
      "20.2 K    Total params\n",
      "0.081     Total estimated model params size (MB)\n"
     ]
    },
    {
     "name": "stdout",
     "output_type": "stream",
     "text": [
      "Fitting model\n"
     ]
    },
    {
     "data": {
      "application/vnd.jupyter.widget-view+json": {
       "model_id": "5b8e1187fce64232be46d5a84b9d698f",
       "version_major": 2,
       "version_minor": 0
      },
      "text/plain": [
       "Training: 0it [00:00, ?it/s]"
      ]
     },
     "metadata": {},
     "output_type": "display_data"
    },
    {
     "name": "stderr",
     "output_type": "stream",
     "text": [
      "`Trainer.fit` stopped: `max_epochs=10` reached.\n",
      "GPU available: False, used: False\n",
      "TPU available: False, using: 0 TPU cores\n",
      "IPU available: False, using: 0 IPUs\n",
      "HPU available: False, using: 0 HPUs\n",
      "\n",
      "  | Name   | Type       | Params\n",
      "--------------------------------------\n",
      "0 | layers | Sequential | 205 K \n",
      "1 | loss   | MSELoss    | 0     \n",
      "--------------------------------------\n",
      "205 K     Trainable params\n",
      "0         Non-trainable params\n",
      "205 K     Total params\n",
      "0.820     Total estimated model params size (MB)\n"
     ]
    },
    {
     "data": {
      "application/vnd.jupyter.widget-view+json": {
       "model_id": "d79bb15f1d2143568f3115095168df16",
       "version_major": 2,
       "version_minor": 0
      },
      "text/plain": [
       "Training: 0it [00:00, ?it/s]"
      ]
     },
     "metadata": {},
     "output_type": "display_data"
    },
    {
     "name": "stderr",
     "output_type": "stream",
     "text": [
      "`Trainer.fit` stopped: `max_epochs=10` reached.\n",
      "GPU available: False, used: False\n",
      "TPU available: False, using: 0 TPU cores\n",
      "IPU available: False, using: 0 IPUs\n",
      "HPU available: False, using: 0 HPUs\n",
      "\n",
      "  | Name   | Type       | Params\n",
      "--------------------------------------\n",
      "0 | layers | Sequential | 205 K \n",
      "1 | loss   | MSELoss    | 0     \n",
      "--------------------------------------\n",
      "205 K     Trainable params\n",
      "0         Non-trainable params\n",
      "205 K     Total params\n",
      "0.820     Total estimated model params size (MB)\n"
     ]
    },
    {
     "data": {
      "application/vnd.jupyter.widget-view+json": {
       "model_id": "f1136eb16f8343e6aa7cacb97e2ba596",
       "version_major": 2,
       "version_minor": 0
      },
      "text/plain": [
       "Training: 0it [00:00, ?it/s]"
      ]
     },
     "metadata": {},
     "output_type": "display_data"
    },
    {
     "name": "stderr",
     "output_type": "stream",
     "text": [
      "`Trainer.fit` stopped: `max_epochs=10` reached.\n",
      "\n",
      "0it [00:00, ?it/s]\u001b[A\n",
      "30it [00:00, 298.11it/s]\u001b[A\n",
      "60it [00:00, 298.66it/s]\u001b[A\n",
      "90it [00:00, 296.37it/s]\u001b[A\n",
      "132it [00:00, 294.56it/s]\u001b[A\n",
      "\n",
      "  | Name     | Type       | Params\n",
      "----------------------------------------\n",
      "0 | network  | GINNetwork | 144 K \n",
      "1 | loss_fun | MSELoss    | 0     \n",
      "----------------------------------------\n",
      "144 K     Trainable params\n",
      "0         Non-trainable params\n",
      "144 K     Total params\n",
      "0.580     Total estimated model params size (MB)\n"
     ]
    },
    {
     "data": {
      "application/vnd.jupyter.widget-view+json": {
       "model_id": "f927c093b08145c6a887e8855d552680",
       "version_major": 2,
       "version_minor": 0
      },
      "text/plain": [
       "Training: 0it [00:00, ?it/s]"
      ]
     },
     "metadata": {},
     "output_type": "display_data"
    },
    {
     "name": "stderr",
     "output_type": "stream",
     "text": [
      "`Trainer.fit` stopped: `max_epochs=5` reached.\n",
      "\n",
      "0it [00:00, ?it/s]\u001b[A\n",
      "30it [00:00, 299.62it/s]\u001b[A\n",
      "60it [00:00, 297.28it/s]\u001b[A\n",
      "90it [00:00, 283.37it/s]\u001b[A\n",
      "132it [00:00, 283.13it/s]\u001b[A\n",
      "\n",
      "  | Name     | Type       | Params\n",
      "----------------------------------------\n",
      "0 | A        | GNN        | 1.1 M \n",
      "1 | B        | Sequential | 131 K \n",
      "2 | network  | Sequential | 1.3 M \n",
      "3 | loss_fun | MSELoss    | 0     \n",
      "----------------------------------------\n",
      "1.3 M     Trainable params\n",
      "0         Non-trainable params\n",
      "1.3 M     Total params\n",
      "5.100     Total estimated model params size (MB)\n"
     ]
    },
    {
     "data": {
      "application/vnd.jupyter.widget-view+json": {
       "model_id": "290b3cb55fa44d51b86ff90287f62912",
       "version_major": 2,
       "version_minor": 0
      },
      "text/plain": [
       "Training: 0it [00:00, ?it/s]"
      ]
     },
     "metadata": {},
     "output_type": "display_data"
    },
    {
     "name": "stderr",
     "output_type": "stream",
     "text": [
      "`Trainer.fit` stopped: `max_epochs=400` reached.\n",
      "\n",
      "0it [00:00, ?it/s]\u001b[A\n",
      "26it [00:00, 252.69it/s]\u001b[A\n",
      "55it [00:00, 271.01it/s]\u001b[A\n",
      "85it [00:00, 279.59it/s]\u001b[A\n",
      "132it [00:00, 280.30it/s]\u001b[A\n"
     ]
    },
    {
     "data": {
      "application/vnd.jupyter.widget-view+json": {
       "model_id": "0b0954dfdaf04a4fb4f6c60311da914d",
       "version_major": 2,
       "version_minor": 0
      },
      "text/plain": [
       "Predicting: 9it [00:00, ?it/s]"
      ]
     },
     "metadata": {},
     "output_type": "display_data"
    },
    {
     "name": "stderr",
     "output_type": "stream",
     "text": [
      "\n",
      "0it [00:00, ?it/s]\u001b[A\n",
      "29it [00:00, 288.20it/s]\u001b[A\n",
      "59it [00:00, 294.10it/s]\u001b[A\n",
      "89it [00:00, 289.48it/s]\u001b[A\n",
      "132it [00:00, 283.18it/s]\u001b[A\n"
     ]
    },
    {
     "data": {
      "application/vnd.jupyter.widget-view+json": {
       "model_id": "557a4cbdcc30416598a41793d674f360",
       "version_major": 2,
       "version_minor": 0
      },
      "text/plain": [
       "Predicting: 9it [00:00, ?it/s]"
      ]
     },
     "metadata": {},
     "output_type": "display_data"
    },
    {
     "name": "stderr",
     "output_type": "stream",
     "text": [
      "\n",
      "0it [00:00, ?it/s]\u001b[A\n",
      "29it [00:00, 288.96it/s]\u001b[A\n",
      "58it [00:00, 282.55it/s]\u001b[A\n",
      "88it [00:00, 286.65it/s]\u001b[A\n",
      "132it [00:00, 288.81it/s]\u001b[A\n"
     ]
    },
    {
     "data": {
      "application/vnd.jupyter.widget-view+json": {
       "model_id": "fab290295a7d4b62a16843c3f94879d7",
       "version_major": 2,
       "version_minor": 0
      },
      "text/plain": [
       "Predicting: 9it [00:00, ?it/s]"
      ]
     },
     "metadata": {},
     "output_type": "display_data"
    },
    {
     "name": "stdout",
     "output_type": "stream",
     "text": [
      "Evaluating model\n"
     ]
    },
    {
     "name": "stderr",
     "output_type": "stream",
     "text": [
      "\n",
      "17it [00:00, 299.61it/s]\n"
     ]
    },
    {
     "data": {
      "application/vnd.jupyter.widget-view+json": {
       "model_id": "1be4ff899c444d3c9a44dec922f08003",
       "version_major": 2,
       "version_minor": 0
      },
      "text/plain": [
       "Predicting: 9it [00:00, ?it/s]"
      ]
     },
     "metadata": {},
     "output_type": "display_data"
    },
    {
     "name": "stderr",
     "output_type": "stream",
     "text": [
      "\n",
      "17it [00:00, 290.77it/s]\n"
     ]
    },
    {
     "data": {
      "application/vnd.jupyter.widget-view+json": {
       "model_id": "aa7e6d779a3942d0baffab9ef34f041e",
       "version_major": 2,
       "version_minor": 0
      },
      "text/plain": [
       "Predicting: 9it [00:00, ?it/s]"
      ]
     },
     "metadata": {},
     "output_type": "display_data"
    },
    {
     "name": "stderr",
     "output_type": "stream",
     "text": [
      "\r",
      " 56%|██████████████████████████████████████████████████████████████████▋                                                     | 5/9 [14:03<10:13, 153.26s/it]"
     ]
    },
    {
     "name": "stdout",
     "output_type": "stream",
     "text": [
      "Fitting model\n"
     ]
    },
    {
     "name": "stderr",
     "output_type": "stream",
     "text": [
      "\n",
      "0it [00:00, ?it/s]\u001b[A\n",
      "28it [00:00, 270.88it/s]\u001b[A\n",
      "57it [00:00, 278.88it/s]\u001b[A\n",
      "85it [00:00, 278.21it/s]\u001b[A\n",
      "132it [00:00, 283.20it/s]\u001b[A\n",
      "\n",
      "0it [00:00, ?it/s]\u001b[A\n",
      "29it [00:00, 283.67it/s]\u001b[A\n",
      "58it [00:00, 285.16it/s]\u001b[A\n",
      "87it [00:00, 284.58it/s]\u001b[A\n",
      "132it [00:00, 286.74it/s]\u001b[A\n",
      "\n",
      "Iteration:   0%|                                                                                                                      | 0/1 [00:00<?, ?it/s]\u001b[A\n",
      "Iteration: 100%|██████████████████████████████████████████████████████████████████████████████████████████████████████████████| 1/1 [00:00<00:00,  3.12it/s]\u001b[A\n"
     ]
    },
    {
     "name": "stdout",
     "output_type": "stream",
     "text": [
      "Evaluating model\n"
     ]
    },
    {
     "name": "stderr",
     "output_type": "stream",
     "text": [
      "\n",
      "17it [00:00, 187.26it/s]\n",
      "\n",
      "Iteration:   0%|                                                                                                                      | 0/1 [00:00<?, ?it/s]\u001b[A\n",
      "Iteration: 100%|██████████████████████████████████████████████████████████████████████████████████████████████████████████████| 1/1 [00:00<00:00,  2.73it/s]\u001b[A\n",
      " 67%|████████████████████████████████████████████████████████████████████████████████                                        | 6/9 [15:34<06:36, 132.18s/it]"
     ]
    },
    {
     "name": "stdout",
     "output_type": "stream",
     "text": [
      "Fitting model\n"
     ]
    },
    {
     "name": "stderr",
     "output_type": "stream",
     "text": [
      "\n",
      "0it [00:00, ?it/s]\u001b[A\n",
      "27it [00:00, 267.36it/s]\u001b[A\n",
      "56it [00:00, 276.27it/s]\u001b[A\n",
      "85it [00:00, 278.72it/s]\u001b[A\n",
      "132it [00:00, 279.02it/s]\u001b[A\n",
      "\n",
      "  | Name     | Type       | Params\n",
      "----------------------------------------\n",
      "0 | network  | GINNetwork | 9.8 K \n",
      "1 | loss_fun | MSELoss    | 0     \n",
      "----------------------------------------\n",
      "9.8 K     Trainable params\n",
      "0         Non-trainable params\n",
      "9.8 K     Total params\n",
      "0.039     Total estimated model params size (MB)\n"
     ]
    },
    {
     "data": {
      "application/vnd.jupyter.widget-view+json": {
       "model_id": "322a71a9cebd49d9a7635b1ff6583024",
       "version_major": 2,
       "version_minor": 0
      },
      "text/plain": [
       "Training: 0it [00:00, ?it/s]"
      ]
     },
     "metadata": {},
     "output_type": "display_data"
    },
    {
     "name": "stderr",
     "output_type": "stream",
     "text": [
      "`Trainer.fit` stopped: `max_epochs=5` reached.\n",
      "\n",
      "0it [00:00, ?it/s]\u001b[A\n",
      "29it [00:00, 282.34it/s]\u001b[A\n",
      "58it [00:00, 285.13it/s]\u001b[A\n",
      "88it [00:00, 288.23it/s]\u001b[A\n",
      "132it [00:00, 285.21it/s]\u001b[A\n",
      "\n",
      "  | Name     | Type       | Params\n",
      "----------------------------------------\n",
      "0 | A        | GNN        | 1.1 M \n",
      "1 | B        | Sequential | 131 K \n",
      "2 | network  | Sequential | 1.3 M \n",
      "3 | loss_fun | MSELoss    | 0     \n",
      "----------------------------------------\n",
      "1.3 M     Trainable params\n",
      "0         Non-trainable params\n",
      "1.3 M     Total params\n",
      "5.100     Total estimated model params size (MB)\n"
     ]
    },
    {
     "data": {
      "application/vnd.jupyter.widget-view+json": {
       "model_id": "17b7a9f3332e485bb3818ca5bb027741",
       "version_major": 2,
       "version_minor": 0
      },
      "text/plain": [
       "Training: 0it [00:00, ?it/s]"
      ]
     },
     "metadata": {},
     "output_type": "display_data"
    },
    {
     "name": "stderr",
     "output_type": "stream",
     "text": [
      "`Trainer.fit` stopped: `max_epochs=400` reached.\n",
      "\n",
      "0it [00:00, ?it/s]\u001b[A\n",
      "18it [00:00, 177.72it/s]\u001b[A\n",
      "46it [00:00, 234.15it/s]\u001b[A\n",
      "72it [00:00, 243.00it/s]\u001b[A\n",
      "102it [00:00, 262.37it/s]\u001b[A\n",
      "132it [00:00, 253.49it/s]\u001b[A\n"
     ]
    },
    {
     "data": {
      "application/vnd.jupyter.widget-view+json": {
       "model_id": "a02d783d9193484abbd355cfd003dd37",
       "version_major": 2,
       "version_minor": 0
      },
      "text/plain": [
       "Predicting: 9it [00:00, ?it/s]"
      ]
     },
     "metadata": {},
     "output_type": "display_data"
    },
    {
     "name": "stderr",
     "output_type": "stream",
     "text": [
      "\n",
      "0it [00:00, ?it/s]\u001b[A\n",
      "28it [00:00, 276.47it/s]\u001b[A\n",
      "57it [00:00, 279.48it/s]\u001b[A\n",
      "86it [00:00, 282.14it/s]\u001b[A\n",
      "132it [00:00, 279.31it/s]\u001b[A\n"
     ]
    },
    {
     "data": {
      "application/vnd.jupyter.widget-view+json": {
       "model_id": "3954720f89cb4fb8b83d8ec057634880",
       "version_major": 2,
       "version_minor": 0
      },
      "text/plain": [
       "Predicting: 9it [00:00, ?it/s]"
      ]
     },
     "metadata": {},
     "output_type": "display_data"
    },
    {
     "name": "stderr",
     "output_type": "stream",
     "text": [
      "\n",
      "0it [00:00, ?it/s]\u001b[A\n",
      "28it [00:00, 277.28it/s]\u001b[A\n",
      "57it [00:00, 284.23it/s]\u001b[A\n",
      "86it [00:00, 284.59it/s]\u001b[A\n",
      "132it [00:00, 281.11it/s]\u001b[A\n"
     ]
    },
    {
     "data": {
      "application/vnd.jupyter.widget-view+json": {
       "model_id": "251618cac5324d89a4cdb26edf7d7784",
       "version_major": 2,
       "version_minor": 0
      },
      "text/plain": [
       "Predicting: 9it [00:00, ?it/s]"
      ]
     },
     "metadata": {},
     "output_type": "display_data"
    },
    {
     "name": "stdout",
     "output_type": "stream",
     "text": [
      "Evaluating model\n"
     ]
    },
    {
     "name": "stderr",
     "output_type": "stream",
     "text": [
      "\n",
      "17it [00:00, 274.47it/s]\n"
     ]
    },
    {
     "data": {
      "application/vnd.jupyter.widget-view+json": {
       "model_id": "4517f4020c6e4588a5af6b7601994ff7",
       "version_major": 2,
       "version_minor": 0
      },
      "text/plain": [
       "Predicting: 9it [00:00, ?it/s]"
      ]
     },
     "metadata": {},
     "output_type": "display_data"
    },
    {
     "name": "stderr",
     "output_type": "stream",
     "text": [
      "\n",
      "17it [00:00, 285.87it/s]\n"
     ]
    },
    {
     "data": {
      "application/vnd.jupyter.widget-view+json": {
       "model_id": "f679732533844344a11db5febbf99c24",
       "version_major": 2,
       "version_minor": 0
      },
      "text/plain": [
       "Predicting: 9it [00:00, ?it/s]"
      ]
     },
     "metadata": {},
     "output_type": "display_data"
    },
    {
     "name": "stderr",
     "output_type": "stream",
     "text": [
      "\r",
      " 78%|█████████████████████████████████████████████████████████████████████████████████████████████▎                          | 7/9 [20:09<05:57, 178.98s/it]"
     ]
    },
    {
     "name": "stdout",
     "output_type": "stream",
     "text": [
      "Fitting model\n",
      "Evaluating model\n"
     ]
    },
    {
     "name": "stderr",
     "output_type": "stream",
     "text": [
      "\r",
      " 89%|██████████████████████████████████████████████████████████████████████████████████████████████████████████▋             | 8/9 [29:29<05:00, 300.20s/it]"
     ]
    },
    {
     "name": "stdout",
     "output_type": "stream",
     "text": [
      "Fitting model\n",
      "Evaluating model\n"
     ]
    },
    {
     "name": "stderr",
     "output_type": "stream",
     "text": [
      "100%|████████████████████████████████████████████████████████████████████████████████████████████████████████████████████████| 9/9 [29:30<00:00, 196.75s/it]\n"
     ]
    },
    {
     "data": {
      "text/plain": [
       "[0.9389217956294293,\n",
       " 0.9120553944653617,\n",
       " 0.893734586206123,\n",
       " 1.0627993687671018,\n",
       " 0.9796080186590834,\n",
       " 1.108739780764965,\n",
       " 1.0048031891194376,\n",
       " 1.1496126509552378,\n",
       " 1.539267663915692]"
      ]
     },
     "execution_count": 6,
     "metadata": {},
     "output_type": "execute_result"
    }
   ],
   "source": [
    "mm.run(models)"
   ]
  },
  {
   "cell_type": "code",
   "execution_count": 7,
   "id": "fca37d96",
   "metadata": {},
   "outputs": [
    {
     "data": {
      "text/html": [
       "<div>\n",
       "<style scoped>\n",
       "    .dataframe tbody tr th:only-of-type {\n",
       "        vertical-align: middle;\n",
       "    }\n",
       "\n",
       "    .dataframe tbody tr th {\n",
       "        vertical-align: top;\n",
       "    }\n",
       "\n",
       "    .dataframe thead th {\n",
       "        text-align: right;\n",
       "    }\n",
       "</style>\n",
       "<table border=\"1\" class=\"dataframe\">\n",
       "  <thead>\n",
       "    <tr style=\"text-align: right;\">\n",
       "      <th></th>\n",
       "      <th>Model Name</th>\n",
       "      <th>Model Parameters</th>\n",
       "      <th>Fitting Time</th>\n",
       "      <th>Root Mean Squared Error</th>\n",
       "    </tr>\n",
       "  </thead>\n",
       "  <tbody>\n",
       "    <tr>\n",
       "      <th>2</th>\n",
       "      <td>BaseBoosting AgaxFVQ0</td>\n",
       "      <td>{'BC_class_name': 'BaseBoosting', 'args': [[{'...</td>\n",
       "      <td>2.780979</td>\n",
       "      <td>0.893735</td>\n",
       "    </tr>\n",
       "    <tr>\n",
       "      <th>1</th>\n",
       "      <td>BaseBoosting NgirmAEn</td>\n",
       "      <td>{'BC_class_name': 'BaseBoosting', 'args': [[{'...</td>\n",
       "      <td>20.479679</td>\n",
       "      <td>0.912055</td>\n",
       "    </tr>\n",
       "    <tr>\n",
       "      <th>0</th>\n",
       "      <td>ZWK_XGBoostModel u3zq9AAV</td>\n",
       "      <td>{'BC_class_name': 'ZWK_XGBoostModel', 'args': ...</td>\n",
       "      <td>513.931366</td>\n",
       "      <td>0.938922</td>\n",
       "    </tr>\n",
       "    <tr>\n",
       "      <th>4</th>\n",
       "      <td>RFStacker JTdg5ouA</td>\n",
       "      <td>{'BC_class_name': 'RFStacker', 'args': [[{'BC_...</td>\n",
       "      <td>268.058262</td>\n",
       "      <td>0.979608</td>\n",
       "    </tr>\n",
       "    <tr>\n",
       "      <th>6</th>\n",
       "      <td>RFStacker jPCCcFT7</td>\n",
       "      <td>{'BC_class_name': 'RFStacker', 'args': [[{'BC_...</td>\n",
       "      <td>272.914788</td>\n",
       "      <td>1.004803</td>\n",
       "    </tr>\n",
       "    <tr>\n",
       "      <th>3</th>\n",
       "      <td>SPGNN TWy3l_kb</td>\n",
       "      <td>{'BC_class_name': 'SPGNN', 'args': [], 'kwargs...</td>\n",
       "      <td>22.027173</td>\n",
       "      <td>1.062799</td>\n",
       "    </tr>\n",
       "    <tr>\n",
       "      <th>5</th>\n",
       "      <td>BaseBoosting cwLZsiJN</td>\n",
       "      <td>{'BC_class_name': 'BaseBoosting', 'args': [[{'...</td>\n",
       "      <td>87.977830</td>\n",
       "      <td>1.108740</td>\n",
       "    </tr>\n",
       "    <tr>\n",
       "      <th>7</th>\n",
       "      <td>ResampleAdaboost FRyC5Sf3</td>\n",
       "      <td>{'BC_class_name': 'ResampleAdaboost', 'args': ...</td>\n",
       "      <td>557.428204</td>\n",
       "      <td>1.149613</td>\n",
       "    </tr>\n",
       "    <tr>\n",
       "      <th>8</th>\n",
       "      <td>KNN 20fz7vhA</td>\n",
       "      <td>{'BC_class_name': 'KNN', 'args': [{'BC_class_n...</td>\n",
       "      <td>0.006039</td>\n",
       "      <td>1.539268</td>\n",
       "    </tr>\n",
       "  </tbody>\n",
       "</table>\n",
       "</div>"
      ],
      "text/plain": [
       "                  Model Name  \\\n",
       "2      BaseBoosting AgaxFVQ0   \n",
       "1      BaseBoosting NgirmAEn   \n",
       "0  ZWK_XGBoostModel u3zq9AAV   \n",
       "4         RFStacker JTdg5ouA   \n",
       "6         RFStacker jPCCcFT7   \n",
       "3             SPGNN TWy3l_kb   \n",
       "5      BaseBoosting cwLZsiJN   \n",
       "7  ResampleAdaboost FRyC5Sf3   \n",
       "8               KNN 20fz7vhA   \n",
       "\n",
       "                                    Model Parameters  Fitting Time  \\\n",
       "2  {'BC_class_name': 'BaseBoosting', 'args': [[{'...      2.780979   \n",
       "1  {'BC_class_name': 'BaseBoosting', 'args': [[{'...     20.479679   \n",
       "0  {'BC_class_name': 'ZWK_XGBoostModel', 'args': ...    513.931366   \n",
       "4  {'BC_class_name': 'RFStacker', 'args': [[{'BC_...    268.058262   \n",
       "6  {'BC_class_name': 'RFStacker', 'args': [[{'BC_...    272.914788   \n",
       "3  {'BC_class_name': 'SPGNN', 'args': [], 'kwargs...     22.027173   \n",
       "5  {'BC_class_name': 'BaseBoosting', 'args': [[{'...     87.977830   \n",
       "7  {'BC_class_name': 'ResampleAdaboost', 'args': ...    557.428204   \n",
       "8  {'BC_class_name': 'KNN', 'args': [{'BC_class_n...      0.006039   \n",
       "\n",
       "   Root Mean Squared Error  \n",
       "2                 0.893735  \n",
       "1                 0.912055  \n",
       "0                 0.938922  \n",
       "4                 0.979608  \n",
       "6                 1.004803  \n",
       "3                 1.062799  \n",
       "5                 1.108740  \n",
       "7                 1.149613  \n",
       "8                 1.539268  "
      ]
     },
     "execution_count": 7,
     "metadata": {},
     "output_type": "execute_result"
    }
   ],
   "source": [
    "mm.get_model_database().sort_values(by=\"Root Mean Squared Error\")"
   ]
  },
  {
   "cell_type": "code",
   "execution_count": 10,
   "id": "5b8b1933",
   "metadata": {},
   "outputs": [
    {
     "data": {
      "text/plain": [
       "\"{'BC_class_name': 'BaseBoosting', 'args': [[{'BC_class_name': 'RandomForestModel', 'args': [{'BC_class_name': 'DescriptastorusDescriptor', 'args': ['rdkit2dnormalized'], 'kwargs': {'log': True, 'scale': None}}], 'kwargs': {'n_estimators': 1000, 'max_features': 'log2', 'max_depth': None, 'criterion': 'entropy', 'class_weight': None, 'bootstrap': True, 'random_state': None}}, {'BC_class_name': 'RandomForestModel', 'args': [{'BC_class_name': 'DescriptastorusDescriptor', 'args': ['morgan3counts'], 'kwargs': {'log': True, 'scale': None}}], 'kwargs': {'n_estimators': 1000, 'max_features': 'log2', 'max_depth': None, 'criterion': 'entropy', 'class_weight': None, 'bootstrap': True, 'random_state': None}}, {'BC_class_name': 'RandomForestModel', 'args': [{'BC_class_name': 'OlorenCheckpoint', 'args': ['default'], 'kwargs': {'num_tasks': 2048, 'log': True}}], 'kwargs': {'n_estimators': 1000, 'max_features': 'log2', 'max_depth': None, 'criterion': 'entropy', 'class_weight': None, 'bootstrap': True, 'random_state': None}}]], 'kwargs': {'n': 1, 'log': True, 'oof': False, 'nfolds': 5}}\""
      ]
     },
     "execution_count": 10,
     "metadata": {},
     "output_type": "execute_result"
    }
   ],
   "source": [
    "mm.get_model_database()[\"Model Parameters\"].values[2]"
   ]
  },
  {
   "cell_type": "code",
   "execution_count": null,
   "id": "b716291d",
   "metadata": {},
   "outputs": [],
   "source": []
  }
 ],
 "metadata": {
  "kernelspec": {
   "display_name": "Python 3 (ipykernel)",
   "language": "python",
   "name": "python3"
  },
  "language_info": {
   "codemirror_mode": {
    "name": "ipython",
    "version": 3
   },
   "file_extension": ".py",
   "mimetype": "text/x-python",
   "name": "python",
   "nbconvert_exporter": "python",
   "pygments_lexer": "ipython3",
   "version": "3.8.13"
  }
 },
 "nbformat": 4,
 "nbformat_minor": 5
}
